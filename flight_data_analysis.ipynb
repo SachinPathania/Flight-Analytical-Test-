{
 "cells": [
  {
   "cell_type": "markdown",
   "metadata": {},
   "source": [
    "- Author: Sachin Pathania\n",
    "- Git : https://github.com/SachinPathania"
   ]
  },
  {
   "cell_type": "markdown",
   "metadata": {},
   "source": [
    "The objective of this exercise is to help your team to generate business insights using different data \n",
    "exploratory techniques.\n",
    "\n",
    "Data Information\n",
    "----\n",
    "We have provided a dataset namely 'analytics_test.csv'(note: i have changed the file name ixigo_data.csv) which consists of 13 columns.\n",
    "Each row in the file represents, a booking information.\n",
    "Column names and description ---\n",
    "\n",
    "1) userId - User Ids\n",
    "\n",
    "2) bookingId - Trip Ids\n",
    "\n",
    "3) bookingDate - Booking creation timestamp (IST)\n",
    "\n",
    "4) journeyType - Type of journey\n",
    "\n",
    "5) isInternational - Type of travel (True for International and False for Domestic)\n",
    "\n",
    "6) providerId - Provider types\n",
    "\n",
    "7) originCode - Origin codes\n",
    "\n",
    "8) destinationCode - Destination codes\n",
    "\n",
    "9) cabinClass - class (Business, Economy, etc.)\n",
    "\n",
    "10) devicePlatform - Device on which the booking was made \n",
    "(iximaad-Android Flights App, iximaio-IOS Flights App, iximatr-Android Trains App,\n",
    " iximweb-Mobile Web,  ixiweb-Web, mmxmatr-Miscelleneous)\n",
    " \n",
    "11) totalFare - total amount of booking\n",
    "\n",
    "12) onwardDeparture - journey timestamp (GMT)\n",
    "\n",
    "13) userType - type of user \n",
    "(First time user - New User, Booking made after long time - Reactivated User, Frequent Bookers - Old User)\n",
    "\n"
   ]
  },
  {
   "cell_type": "markdown",
   "metadata": {},
   "source": [
    "# 1. Import Libraries"
   ]
  },
  {
   "cell_type": "code",
   "execution_count": 1,
   "metadata": {},
   "outputs": [],
   "source": [
    "import pandas as pd\n",
    "import numpy as np\n",
    "import matplotlib.pyplot as plt\n",
    "import seaborn as sns\n",
    "import scipy.stats as stats\n",
    "pd.set_option('display.max_rows',10000)\n",
    "pd.set_option('display.max_columns',10000)\n",
    "import warnings\n",
    "warnings.filterwarnings(\"ignore\")"
   ]
  },
  {
   "cell_type": "markdown",
   "metadata": {},
   "source": [
    "# 2. Import Data"
   ]
  },
  {
   "cell_type": "code",
   "execution_count": 2,
   "metadata": {},
   "outputs": [],
   "source": [
    "df=pd.read_csv('flight_data.csv')"
   ]
  },
  {
   "cell_type": "code",
   "execution_count": 3,
   "metadata": {
    "scrolled": false
   },
   "outputs": [
    {
     "data": {
      "text/html": [
       "<div>\n",
       "<style scoped>\n",
       "    .dataframe tbody tr th:only-of-type {\n",
       "        vertical-align: middle;\n",
       "    }\n",
       "\n",
       "    .dataframe tbody tr th {\n",
       "        vertical-align: top;\n",
       "    }\n",
       "\n",
       "    .dataframe thead th {\n",
       "        text-align: right;\n",
       "    }\n",
       "</style>\n",
       "<table border=\"1\" class=\"dataframe\">\n",
       "  <thead>\n",
       "    <tr style=\"text-align: right;\">\n",
       "      <th></th>\n",
       "      <th>userId</th>\n",
       "      <th>bookingId</th>\n",
       "      <th>bookingDate</th>\n",
       "      <th>journeyType</th>\n",
       "      <th>isInternational</th>\n",
       "      <th>providerId</th>\n",
       "      <th>originCode</th>\n",
       "      <th>destinationCode</th>\n",
       "      <th>cabinClass</th>\n",
       "      <th>devicePlatform</th>\n",
       "      <th>totalFare</th>\n",
       "      <th>onwardDeparture</th>\n",
       "      <th>userType</th>\n",
       "    </tr>\n",
       "  </thead>\n",
       "  <tbody>\n",
       "    <tr>\n",
       "      <th>0</th>\n",
       "      <td>51b022a5e4b0aaef8f15cdb5</td>\n",
       "      <td>18062077104</td>\n",
       "      <td>20/06/2018 22:16</td>\n",
       "      <td>One way</td>\n",
       "      <td>False</td>\n",
       "      <td>12</td>\n",
       "      <td>AMD</td>\n",
       "      <td>DEL</td>\n",
       "      <td>ECONOMY</td>\n",
       "      <td>iximaad</td>\n",
       "      <td>1937</td>\n",
       "      <td>07/08/2018 23:35</td>\n",
       "      <td>newUser</td>\n",
       "    </tr>\n",
       "    <tr>\n",
       "      <th>1</th>\n",
       "      <td>52381fa4e4b0802b434024be</td>\n",
       "      <td>1.80625E+11</td>\n",
       "      <td>25/06/2018 15:51</td>\n",
       "      <td>One way</td>\n",
       "      <td>False</td>\n",
       "      <td>12</td>\n",
       "      <td>DEL</td>\n",
       "      <td>GAU</td>\n",
       "      <td>ECONOMY</td>\n",
       "      <td>iximaad</td>\n",
       "      <td>4633</td>\n",
       "      <td>27/07/2018 12:50</td>\n",
       "      <td>oldUser</td>\n",
       "    </tr>\n",
       "    <tr>\n",
       "      <th>2</th>\n",
       "      <td>52d952bbe4b0093a9b9cbf78</td>\n",
       "      <td>1.80612E+11</td>\n",
       "      <td>12/06/2018 20:33</td>\n",
       "      <td>One way</td>\n",
       "      <td>False</td>\n",
       "      <td>12</td>\n",
       "      <td>PNQ</td>\n",
       "      <td>BLR</td>\n",
       "      <td>ECONOMY</td>\n",
       "      <td>iximaad</td>\n",
       "      <td>3889</td>\n",
       "      <td>12/06/2018 19:55</td>\n",
       "      <td>oldUser</td>\n",
       "    </tr>\n",
       "    <tr>\n",
       "      <th>3</th>\n",
       "      <td>530779c1e4b00a4950542af3</td>\n",
       "      <td>5.0684E+11</td>\n",
       "      <td>05/06/2018 23:27</td>\n",
       "      <td>One way</td>\n",
       "      <td>False</td>\n",
       "      <td>103</td>\n",
       "      <td>AMD</td>\n",
       "      <td>DEL</td>\n",
       "      <td>ECONOMY</td>\n",
       "      <td>iximaio</td>\n",
       "      <td>11984</td>\n",
       "      <td>06/06/2018 14:10</td>\n",
       "      <td>oldUser</td>\n",
       "    </tr>\n",
       "    <tr>\n",
       "      <th>4</th>\n",
       "      <td>530779c1e4b00a4950542af3</td>\n",
       "      <td>PRL06E2WAA3</td>\n",
       "      <td>19/06/2018 14:52</td>\n",
       "      <td>One way</td>\n",
       "      <td>False</td>\n",
       "      <td>1020</td>\n",
       "      <td>DEL</td>\n",
       "      <td>GAU</td>\n",
       "      <td>ECONOMY</td>\n",
       "      <td>iximaio</td>\n",
       "      <td>6957</td>\n",
       "      <td>20/06/2018 5:20</td>\n",
       "      <td>oldUser</td>\n",
       "    </tr>\n",
       "  </tbody>\n",
       "</table>\n",
       "</div>"
      ],
      "text/plain": [
       "                     userId    bookingId       bookingDate journeyType  \\\n",
       "0  51b022a5e4b0aaef8f15cdb5  18062077104  20/06/2018 22:16     One way   \n",
       "1  52381fa4e4b0802b434024be  1.80625E+11  25/06/2018 15:51     One way   \n",
       "2  52d952bbe4b0093a9b9cbf78  1.80612E+11  12/06/2018 20:33     One way   \n",
       "3  530779c1e4b00a4950542af3   5.0684E+11  05/06/2018 23:27     One way   \n",
       "4  530779c1e4b00a4950542af3  PRL06E2WAA3  19/06/2018 14:52     One way   \n",
       "\n",
       "   isInternational  providerId originCode destinationCode cabinClass  \\\n",
       "0            False          12        AMD             DEL    ECONOMY   \n",
       "1            False          12        DEL             GAU    ECONOMY   \n",
       "2            False          12        PNQ             BLR    ECONOMY   \n",
       "3            False         103        AMD             DEL    ECONOMY   \n",
       "4            False        1020        DEL             GAU    ECONOMY   \n",
       "\n",
       "  devicePlatform  totalFare   onwardDeparture userType  \n",
       "0        iximaad       1937  07/08/2018 23:35  newUser  \n",
       "1        iximaad       4633  27/07/2018 12:50  oldUser  \n",
       "2        iximaad       3889  12/06/2018 19:55  oldUser  \n",
       "3        iximaio      11984  06/06/2018 14:10  oldUser  \n",
       "4        iximaio       6957   20/06/2018 5:20  oldUser  "
      ]
     },
     "execution_count": 3,
     "metadata": {},
     "output_type": "execute_result"
    }
   ],
   "source": [
    "df.head()\n",
    "#checking top 5 rows of the data"
   ]
  },
  {
   "cell_type": "code",
   "execution_count": 4,
   "metadata": {},
   "outputs": [
    {
     "data": {
      "text/plain": [
       "(5098, 13)"
      ]
     },
     "execution_count": 4,
     "metadata": {},
     "output_type": "execute_result"
    }
   ],
   "source": [
    "df.shape\n",
    "#total rows in the data : 5098\n",
    "#total columns in the data : 13"
   ]
  },
  {
   "cell_type": "code",
   "execution_count": 5,
   "metadata": {},
   "outputs": [
    {
     "name": "stdout",
     "output_type": "stream",
     "text": [
      "<class 'pandas.core.frame.DataFrame'>\n",
      "RangeIndex: 5098 entries, 0 to 5097\n",
      "Data columns (total 13 columns):\n",
      " #   Column           Non-Null Count  Dtype \n",
      "---  ------           --------------  ----- \n",
      " 0   userId           5098 non-null   object\n",
      " 1   bookingId        5098 non-null   object\n",
      " 2   bookingDate      5098 non-null   object\n",
      " 3   journeyType      5098 non-null   object\n",
      " 4   isInternational  5098 non-null   bool  \n",
      " 5   providerId       5098 non-null   int64 \n",
      " 6   originCode       5098 non-null   object\n",
      " 7   destinationCode  5098 non-null   object\n",
      " 8   cabinClass       5098 non-null   object\n",
      " 9   devicePlatform   5098 non-null   object\n",
      " 10  totalFare        5098 non-null   int64 \n",
      " 11  onwardDeparture  5098 non-null   object\n",
      " 12  userType         5098 non-null   object\n",
      "dtypes: bool(1), int64(2), object(10)\n",
      "memory usage: 483.0+ KB\n"
     ]
    }
   ],
   "source": [
    "df.info()"
   ]
  },
  {
   "cell_type": "code",
   "execution_count": 6,
   "metadata": {},
   "outputs": [
    {
     "data": {
      "text/html": [
       "<div>\n",
       "<style scoped>\n",
       "    .dataframe tbody tr th:only-of-type {\n",
       "        vertical-align: middle;\n",
       "    }\n",
       "\n",
       "    .dataframe tbody tr th {\n",
       "        vertical-align: top;\n",
       "    }\n",
       "\n",
       "    .dataframe thead th {\n",
       "        text-align: right;\n",
       "    }\n",
       "</style>\n",
       "<table border=\"1\" class=\"dataframe\">\n",
       "  <thead>\n",
       "    <tr style=\"text-align: right;\">\n",
       "      <th></th>\n",
       "      <th>providerId</th>\n",
       "      <th>totalFare</th>\n",
       "    </tr>\n",
       "  </thead>\n",
       "  <tbody>\n",
       "    <tr>\n",
       "      <th>count</th>\n",
       "      <td>5098.000000</td>\n",
       "      <td>5098.000000</td>\n",
       "    </tr>\n",
       "    <tr>\n",
       "      <th>mean</th>\n",
       "      <td>142.836603</td>\n",
       "      <td>4289.686740</td>\n",
       "    </tr>\n",
       "    <tr>\n",
       "      <th>std</th>\n",
       "      <td>291.245588</td>\n",
       "      <td>3364.992905</td>\n",
       "    </tr>\n",
       "    <tr>\n",
       "      <th>min</th>\n",
       "      <td>1.000000</td>\n",
       "      <td>1489.000000</td>\n",
       "    </tr>\n",
       "    <tr>\n",
       "      <th>25%</th>\n",
       "      <td>12.000000</td>\n",
       "      <td>2198.000000</td>\n",
       "    </tr>\n",
       "    <tr>\n",
       "      <th>50%</th>\n",
       "      <td>12.000000</td>\n",
       "      <td>3261.500000</td>\n",
       "    </tr>\n",
       "    <tr>\n",
       "      <th>75%</th>\n",
       "      <td>103.000000</td>\n",
       "      <td>5197.250000</td>\n",
       "    </tr>\n",
       "    <tr>\n",
       "      <th>max</th>\n",
       "      <td>1020.000000</td>\n",
       "      <td>62862.000000</td>\n",
       "    </tr>\n",
       "  </tbody>\n",
       "</table>\n",
       "</div>"
      ],
      "text/plain": [
       "        providerId     totalFare\n",
       "count  5098.000000   5098.000000\n",
       "mean    142.836603   4289.686740\n",
       "std     291.245588   3364.992905\n",
       "min       1.000000   1489.000000\n",
       "25%      12.000000   2198.000000\n",
       "50%      12.000000   3261.500000\n",
       "75%     103.000000   5197.250000\n",
       "max    1020.000000  62862.000000"
      ]
     },
     "execution_count": 6,
     "metadata": {},
     "output_type": "execute_result"
    }
   ],
   "source": [
    "df.describe()"
   ]
  },
  {
   "cell_type": "code",
   "execution_count": 7,
   "metadata": {},
   "outputs": [
    {
     "data": {
      "text/plain": [
       "userId             0\n",
       "bookingId          0\n",
       "bookingDate        0\n",
       "journeyType        0\n",
       "isInternational    0\n",
       "providerId         0\n",
       "originCode         0\n",
       "destinationCode    0\n",
       "cabinClass         0\n",
       "devicePlatform     0\n",
       "totalFare          0\n",
       "onwardDeparture    0\n",
       "userType           0\n",
       "dtype: int64"
      ]
     },
     "execution_count": 7,
     "metadata": {},
     "output_type": "execute_result"
    }
   ],
   "source": [
    "df.isnull().sum()\n",
    "#no null values present in the data"
   ]
  },
  {
   "cell_type": "markdown",
   "metadata": {},
   "source": [
    "## 2.1 Converting Datatype of required columns"
   ]
  },
  {
   "cell_type": "code",
   "execution_count": 8,
   "metadata": {},
   "outputs": [],
   "source": [
    "df['bookingDate'] =  pd.to_datetime(df['bookingDate']) #this is in IST"
   ]
  },
  {
   "cell_type": "code",
   "execution_count": 9,
   "metadata": {},
   "outputs": [],
   "source": [
    "df['onwardDeparture'] =  pd.to_datetime(df['onwardDeparture']) #this is in GMT"
   ]
  },
  {
   "cell_type": "code",
   "execution_count": 10,
   "metadata": {
    "scrolled": true
   },
   "outputs": [
    {
     "name": "stdout",
     "output_type": "stream",
     "text": [
      "<class 'pandas.core.frame.DataFrame'>\n",
      "RangeIndex: 5098 entries, 0 to 5097\n",
      "Data columns (total 13 columns):\n",
      " #   Column           Non-Null Count  Dtype         \n",
      "---  ------           --------------  -----         \n",
      " 0   userId           5098 non-null   object        \n",
      " 1   bookingId        5098 non-null   object        \n",
      " 2   bookingDate      5098 non-null   datetime64[ns]\n",
      " 3   journeyType      5098 non-null   object        \n",
      " 4   isInternational  5098 non-null   bool          \n",
      " 5   providerId       5098 non-null   int64         \n",
      " 6   originCode       5098 non-null   object        \n",
      " 7   destinationCode  5098 non-null   object        \n",
      " 8   cabinClass       5098 non-null   object        \n",
      " 9   devicePlatform   5098 non-null   object        \n",
      " 10  totalFare        5098 non-null   int64         \n",
      " 11  onwardDeparture  5098 non-null   datetime64[ns]\n",
      " 12  userType         5098 non-null   object        \n",
      "dtypes: bool(1), datetime64[ns](2), int64(2), object(8)\n",
      "memory usage: 483.0+ KB\n"
     ]
    }
   ],
   "source": [
    "#again checking datatypes\n",
    "df.info()"
   ]
  },
  {
   "cell_type": "markdown",
   "metadata": {},
   "source": [
    "# 3. Questions:"
   ]
  },
  {
   "cell_type": "markdown",
   "metadata": {},
   "source": [
    "### 3.1) What is the percentage of new users in each of the top sectors (Origin-Destination pairs) month-wise?"
   ]
  },
  {
   "cell_type": "code",
   "execution_count": 11,
   "metadata": {},
   "outputs": [
    {
     "data": {
      "text/html": [
       "<div>\n",
       "<style scoped>\n",
       "    .dataframe tbody tr th:only-of-type {\n",
       "        vertical-align: middle;\n",
       "    }\n",
       "\n",
       "    .dataframe tbody tr th {\n",
       "        vertical-align: top;\n",
       "    }\n",
       "\n",
       "    .dataframe thead th {\n",
       "        text-align: right;\n",
       "    }\n",
       "</style>\n",
       "<table border=\"1\" class=\"dataframe\">\n",
       "  <thead>\n",
       "    <tr style=\"text-align: right;\">\n",
       "      <th></th>\n",
       "      <th>month</th>\n",
       "      <th>userType</th>\n",
       "      <th>originCode</th>\n",
       "      <th>destinationCode</th>\n",
       "      <th>userId</th>\n",
       "    </tr>\n",
       "  </thead>\n",
       "  <tbody>\n",
       "    <tr>\n",
       "      <th>0</th>\n",
       "      <td>5</td>\n",
       "      <td>Reactivated</td>\n",
       "      <td>BLR</td>\n",
       "      <td>PNQ</td>\n",
       "      <td>1</td>\n",
       "    </tr>\n",
       "    <tr>\n",
       "      <th>1</th>\n",
       "      <td>5</td>\n",
       "      <td>Reactivated</td>\n",
       "      <td>CCU</td>\n",
       "      <td>DEL</td>\n",
       "      <td>1</td>\n",
       "    </tr>\n",
       "    <tr>\n",
       "      <th>2</th>\n",
       "      <td>5</td>\n",
       "      <td>newUser</td>\n",
       "      <td>AMD</td>\n",
       "      <td>DEL</td>\n",
       "      <td>3</td>\n",
       "    </tr>\n",
       "    <tr>\n",
       "      <th>3</th>\n",
       "      <td>5</td>\n",
       "      <td>newUser</td>\n",
       "      <td>BLR</td>\n",
       "      <td>PNQ</td>\n",
       "      <td>7</td>\n",
       "    </tr>\n",
       "    <tr>\n",
       "      <th>4</th>\n",
       "      <td>5</td>\n",
       "      <td>newUser</td>\n",
       "      <td>CCU</td>\n",
       "      <td>DEL</td>\n",
       "      <td>10</td>\n",
       "    </tr>\n",
       "  </tbody>\n",
       "</table>\n",
       "</div>"
      ],
      "text/plain": [
       "   month     userType originCode destinationCode  userId\n",
       "0      5  Reactivated        BLR             PNQ       1\n",
       "1      5  Reactivated        CCU             DEL       1\n",
       "2      5      newUser        AMD             DEL       3\n",
       "3      5      newUser        BLR             PNQ       7\n",
       "4      5      newUser        CCU             DEL      10"
      ]
     },
     "execution_count": 11,
     "metadata": {},
     "output_type": "execute_result"
    }
   ],
   "source": [
    "df1 = df.groupby([df['bookingDate'].dt.month.rename('month'), 'userType','originCode','destinationCode'])['userId'].count()\n",
    "df1=df1.to_frame()\n",
    "df1=df1.reset_index()\n",
    "df1.head()"
   ]
  },
  {
   "cell_type": "code",
   "execution_count": 12,
   "metadata": {
    "scrolled": true
   },
   "outputs": [
    {
     "data": {
      "text/html": [
       "<div>\n",
       "<style scoped>\n",
       "    .dataframe tbody tr th:only-of-type {\n",
       "        vertical-align: middle;\n",
       "    }\n",
       "\n",
       "    .dataframe tbody tr th {\n",
       "        vertical-align: top;\n",
       "    }\n",
       "\n",
       "    .dataframe thead th {\n",
       "        text-align: right;\n",
       "    }\n",
       "</style>\n",
       "<table border=\"1\" class=\"dataframe\">\n",
       "  <thead>\n",
       "    <tr style=\"text-align: right;\">\n",
       "      <th></th>\n",
       "      <th>month</th>\n",
       "      <th>userType</th>\n",
       "      <th>originCode</th>\n",
       "      <th>destinationCode</th>\n",
       "      <th>userId</th>\n",
       "    </tr>\n",
       "  </thead>\n",
       "  <tbody>\n",
       "    <tr>\n",
       "      <th>24</th>\n",
       "      <td>6</td>\n",
       "      <td>newUser</td>\n",
       "      <td>DEL</td>\n",
       "      <td>GAU</td>\n",
       "      <td>127</td>\n",
       "    </tr>\n",
       "    <tr>\n",
       "      <th>23</th>\n",
       "      <td>6</td>\n",
       "      <td>newUser</td>\n",
       "      <td>DEL</td>\n",
       "      <td>AMD</td>\n",
       "      <td>114</td>\n",
       "    </tr>\n",
       "    <tr>\n",
       "      <th>20</th>\n",
       "      <td>6</td>\n",
       "      <td>newUser</td>\n",
       "      <td>AMD</td>\n",
       "      <td>DEL</td>\n",
       "      <td>104</td>\n",
       "    </tr>\n",
       "    <tr>\n",
       "      <th>22</th>\n",
       "      <td>6</td>\n",
       "      <td>newUser</td>\n",
       "      <td>CCU</td>\n",
       "      <td>DEL</td>\n",
       "      <td>104</td>\n",
       "    </tr>\n",
       "    <tr>\n",
       "      <th>25</th>\n",
       "      <td>6</td>\n",
       "      <td>newUser</td>\n",
       "      <td>PNQ</td>\n",
       "      <td>BLR</td>\n",
       "      <td>100</td>\n",
       "    </tr>\n",
       "    <tr>\n",
       "      <th>21</th>\n",
       "      <td>6</td>\n",
       "      <td>newUser</td>\n",
       "      <td>BLR</td>\n",
       "      <td>PNQ</td>\n",
       "      <td>66</td>\n",
       "    </tr>\n",
       "    <tr>\n",
       "      <th>5</th>\n",
       "      <td>5</td>\n",
       "      <td>newUser</td>\n",
       "      <td>DEL</td>\n",
       "      <td>AMD</td>\n",
       "      <td>12</td>\n",
       "    </tr>\n",
       "    <tr>\n",
       "      <th>6</th>\n",
       "      <td>5</td>\n",
       "      <td>newUser</td>\n",
       "      <td>DEL</td>\n",
       "      <td>GAU</td>\n",
       "      <td>10</td>\n",
       "    </tr>\n",
       "    <tr>\n",
       "      <th>4</th>\n",
       "      <td>5</td>\n",
       "      <td>newUser</td>\n",
       "      <td>CCU</td>\n",
       "      <td>DEL</td>\n",
       "      <td>10</td>\n",
       "    </tr>\n",
       "    <tr>\n",
       "      <th>34</th>\n",
       "      <td>7</td>\n",
       "      <td>newUser</td>\n",
       "      <td>BLR</td>\n",
       "      <td>PNQ</td>\n",
       "      <td>9</td>\n",
       "    </tr>\n",
       "    <tr>\n",
       "      <th>48</th>\n",
       "      <td>8</td>\n",
       "      <td>newUser</td>\n",
       "      <td>CCU</td>\n",
       "      <td>DEL</td>\n",
       "      <td>9</td>\n",
       "    </tr>\n",
       "    <tr>\n",
       "      <th>33</th>\n",
       "      <td>7</td>\n",
       "      <td>newUser</td>\n",
       "      <td>AMD</td>\n",
       "      <td>DEL</td>\n",
       "      <td>8</td>\n",
       "    </tr>\n",
       "    <tr>\n",
       "      <th>35</th>\n",
       "      <td>7</td>\n",
       "      <td>newUser</td>\n",
       "      <td>CCU</td>\n",
       "      <td>DEL</td>\n",
       "      <td>8</td>\n",
       "    </tr>\n",
       "    <tr>\n",
       "      <th>97</th>\n",
       "      <td>12</td>\n",
       "      <td>newUser</td>\n",
       "      <td>AMD</td>\n",
       "      <td>DEL</td>\n",
       "      <td>8</td>\n",
       "    </tr>\n",
       "    <tr>\n",
       "      <th>62</th>\n",
       "      <td>9</td>\n",
       "      <td>newUser</td>\n",
       "      <td>DEL</td>\n",
       "      <td>AMD</td>\n",
       "      <td>8</td>\n",
       "    </tr>\n",
       "    <tr>\n",
       "      <th>75</th>\n",
       "      <td>10</td>\n",
       "      <td>newUser</td>\n",
       "      <td>DEL</td>\n",
       "      <td>GAU</td>\n",
       "      <td>7</td>\n",
       "    </tr>\n",
       "    <tr>\n",
       "      <th>3</th>\n",
       "      <td>5</td>\n",
       "      <td>newUser</td>\n",
       "      <td>BLR</td>\n",
       "      <td>PNQ</td>\n",
       "      <td>7</td>\n",
       "    </tr>\n",
       "    <tr>\n",
       "      <th>46</th>\n",
       "      <td>8</td>\n",
       "      <td>newUser</td>\n",
       "      <td>AMD</td>\n",
       "      <td>DEL</td>\n",
       "      <td>7</td>\n",
       "    </tr>\n",
       "    <tr>\n",
       "      <th>98</th>\n",
       "      <td>12</td>\n",
       "      <td>newUser</td>\n",
       "      <td>BLR</td>\n",
       "      <td>PNQ</td>\n",
       "      <td>6</td>\n",
       "    </tr>\n",
       "    <tr>\n",
       "      <th>37</th>\n",
       "      <td>7</td>\n",
       "      <td>newUser</td>\n",
       "      <td>DEL</td>\n",
       "      <td>GAU</td>\n",
       "      <td>5</td>\n",
       "    </tr>\n",
       "    <tr>\n",
       "      <th>63</th>\n",
       "      <td>9</td>\n",
       "      <td>newUser</td>\n",
       "      <td>DEL</td>\n",
       "      <td>GAU</td>\n",
       "      <td>5</td>\n",
       "    </tr>\n",
       "    <tr>\n",
       "      <th>38</th>\n",
       "      <td>7</td>\n",
       "      <td>newUser</td>\n",
       "      <td>PNQ</td>\n",
       "      <td>BLR</td>\n",
       "      <td>4</td>\n",
       "    </tr>\n",
       "    <tr>\n",
       "      <th>101</th>\n",
       "      <td>12</td>\n",
       "      <td>newUser</td>\n",
       "      <td>DEL</td>\n",
       "      <td>GAU</td>\n",
       "      <td>4</td>\n",
       "    </tr>\n",
       "    <tr>\n",
       "      <th>36</th>\n",
       "      <td>7</td>\n",
       "      <td>newUser</td>\n",
       "      <td>DEL</td>\n",
       "      <td>AMD</td>\n",
       "      <td>4</td>\n",
       "    </tr>\n",
       "    <tr>\n",
       "      <th>50</th>\n",
       "      <td>8</td>\n",
       "      <td>newUser</td>\n",
       "      <td>DEL</td>\n",
       "      <td>GAU</td>\n",
       "      <td>4</td>\n",
       "    </tr>\n",
       "    <tr>\n",
       "      <th>49</th>\n",
       "      <td>8</td>\n",
       "      <td>newUser</td>\n",
       "      <td>DEL</td>\n",
       "      <td>AMD</td>\n",
       "      <td>4</td>\n",
       "    </tr>\n",
       "    <tr>\n",
       "      <th>47</th>\n",
       "      <td>8</td>\n",
       "      <td>newUser</td>\n",
       "      <td>BLR</td>\n",
       "      <td>PNQ</td>\n",
       "      <td>4</td>\n",
       "    </tr>\n",
       "    <tr>\n",
       "      <th>86</th>\n",
       "      <td>11</td>\n",
       "      <td>newUser</td>\n",
       "      <td>CCU</td>\n",
       "      <td>DEL</td>\n",
       "      <td>4</td>\n",
       "    </tr>\n",
       "    <tr>\n",
       "      <th>7</th>\n",
       "      <td>5</td>\n",
       "      <td>newUser</td>\n",
       "      <td>PNQ</td>\n",
       "      <td>BLR</td>\n",
       "      <td>4</td>\n",
       "    </tr>\n",
       "    <tr>\n",
       "      <th>72</th>\n",
       "      <td>10</td>\n",
       "      <td>newUser</td>\n",
       "      <td>BLR</td>\n",
       "      <td>PNQ</td>\n",
       "      <td>4</td>\n",
       "    </tr>\n",
       "    <tr>\n",
       "      <th>89</th>\n",
       "      <td>11</td>\n",
       "      <td>newUser</td>\n",
       "      <td>PNQ</td>\n",
       "      <td>BLR</td>\n",
       "      <td>3</td>\n",
       "    </tr>\n",
       "    <tr>\n",
       "      <th>2</th>\n",
       "      <td>5</td>\n",
       "      <td>newUser</td>\n",
       "      <td>AMD</td>\n",
       "      <td>DEL</td>\n",
       "      <td>3</td>\n",
       "    </tr>\n",
       "    <tr>\n",
       "      <th>99</th>\n",
       "      <td>12</td>\n",
       "      <td>newUser</td>\n",
       "      <td>CCU</td>\n",
       "      <td>DEL</td>\n",
       "      <td>3</td>\n",
       "    </tr>\n",
       "    <tr>\n",
       "      <th>100</th>\n",
       "      <td>12</td>\n",
       "      <td>newUser</td>\n",
       "      <td>DEL</td>\n",
       "      <td>AMD</td>\n",
       "      <td>3</td>\n",
       "    </tr>\n",
       "    <tr>\n",
       "      <th>88</th>\n",
       "      <td>11</td>\n",
       "      <td>newUser</td>\n",
       "      <td>DEL</td>\n",
       "      <td>GAU</td>\n",
       "      <td>3</td>\n",
       "    </tr>\n",
       "    <tr>\n",
       "      <th>51</th>\n",
       "      <td>8</td>\n",
       "      <td>newUser</td>\n",
       "      <td>PNQ</td>\n",
       "      <td>BLR</td>\n",
       "      <td>3</td>\n",
       "    </tr>\n",
       "    <tr>\n",
       "      <th>73</th>\n",
       "      <td>10</td>\n",
       "      <td>newUser</td>\n",
       "      <td>CCU</td>\n",
       "      <td>DEL</td>\n",
       "      <td>3</td>\n",
       "    </tr>\n",
       "    <tr>\n",
       "      <th>64</th>\n",
       "      <td>9</td>\n",
       "      <td>newUser</td>\n",
       "      <td>PNQ</td>\n",
       "      <td>BLR</td>\n",
       "      <td>3</td>\n",
       "    </tr>\n",
       "    <tr>\n",
       "      <th>61</th>\n",
       "      <td>9</td>\n",
       "      <td>newUser</td>\n",
       "      <td>BLR</td>\n",
       "      <td>PNQ</td>\n",
       "      <td>3</td>\n",
       "    </tr>\n",
       "    <tr>\n",
       "      <th>60</th>\n",
       "      <td>9</td>\n",
       "      <td>newUser</td>\n",
       "      <td>AMD</td>\n",
       "      <td>DEL</td>\n",
       "      <td>3</td>\n",
       "    </tr>\n",
       "    <tr>\n",
       "      <th>102</th>\n",
       "      <td>12</td>\n",
       "      <td>newUser</td>\n",
       "      <td>PNQ</td>\n",
       "      <td>BLR</td>\n",
       "      <td>3</td>\n",
       "    </tr>\n",
       "    <tr>\n",
       "      <th>84</th>\n",
       "      <td>11</td>\n",
       "      <td>newUser</td>\n",
       "      <td>AMD</td>\n",
       "      <td>DEL</td>\n",
       "      <td>2</td>\n",
       "    </tr>\n",
       "    <tr>\n",
       "      <th>87</th>\n",
       "      <td>11</td>\n",
       "      <td>newUser</td>\n",
       "      <td>DEL</td>\n",
       "      <td>AMD</td>\n",
       "      <td>2</td>\n",
       "    </tr>\n",
       "    <tr>\n",
       "      <th>76</th>\n",
       "      <td>10</td>\n",
       "      <td>newUser</td>\n",
       "      <td>PNQ</td>\n",
       "      <td>BLR</td>\n",
       "      <td>2</td>\n",
       "    </tr>\n",
       "    <tr>\n",
       "      <th>74</th>\n",
       "      <td>10</td>\n",
       "      <td>newUser</td>\n",
       "      <td>DEL</td>\n",
       "      <td>AMD</td>\n",
       "      <td>2</td>\n",
       "    </tr>\n",
       "    <tr>\n",
       "      <th>71</th>\n",
       "      <td>10</td>\n",
       "      <td>newUser</td>\n",
       "      <td>AMD</td>\n",
       "      <td>DEL</td>\n",
       "      <td>2</td>\n",
       "    </tr>\n",
       "    <tr>\n",
       "      <th>85</th>\n",
       "      <td>11</td>\n",
       "      <td>newUser</td>\n",
       "      <td>BLR</td>\n",
       "      <td>PNQ</td>\n",
       "      <td>1</td>\n",
       "    </tr>\n",
       "  </tbody>\n",
       "</table>\n",
       "</div>"
      ],
      "text/plain": [
       "     month userType originCode destinationCode  userId\n",
       "24       6  newUser        DEL             GAU     127\n",
       "23       6  newUser        DEL             AMD     114\n",
       "20       6  newUser        AMD             DEL     104\n",
       "22       6  newUser        CCU             DEL     104\n",
       "25       6  newUser        PNQ             BLR     100\n",
       "21       6  newUser        BLR             PNQ      66\n",
       "5        5  newUser        DEL             AMD      12\n",
       "6        5  newUser        DEL             GAU      10\n",
       "4        5  newUser        CCU             DEL      10\n",
       "34       7  newUser        BLR             PNQ       9\n",
       "48       8  newUser        CCU             DEL       9\n",
       "33       7  newUser        AMD             DEL       8\n",
       "35       7  newUser        CCU             DEL       8\n",
       "97      12  newUser        AMD             DEL       8\n",
       "62       9  newUser        DEL             AMD       8\n",
       "75      10  newUser        DEL             GAU       7\n",
       "3        5  newUser        BLR             PNQ       7\n",
       "46       8  newUser        AMD             DEL       7\n",
       "98      12  newUser        BLR             PNQ       6\n",
       "37       7  newUser        DEL             GAU       5\n",
       "63       9  newUser        DEL             GAU       5\n",
       "38       7  newUser        PNQ             BLR       4\n",
       "101     12  newUser        DEL             GAU       4\n",
       "36       7  newUser        DEL             AMD       4\n",
       "50       8  newUser        DEL             GAU       4\n",
       "49       8  newUser        DEL             AMD       4\n",
       "47       8  newUser        BLR             PNQ       4\n",
       "86      11  newUser        CCU             DEL       4\n",
       "7        5  newUser        PNQ             BLR       4\n",
       "72      10  newUser        BLR             PNQ       4\n",
       "89      11  newUser        PNQ             BLR       3\n",
       "2        5  newUser        AMD             DEL       3\n",
       "99      12  newUser        CCU             DEL       3\n",
       "100     12  newUser        DEL             AMD       3\n",
       "88      11  newUser        DEL             GAU       3\n",
       "51       8  newUser        PNQ             BLR       3\n",
       "73      10  newUser        CCU             DEL       3\n",
       "64       9  newUser        PNQ             BLR       3\n",
       "61       9  newUser        BLR             PNQ       3\n",
       "60       9  newUser        AMD             DEL       3\n",
       "102     12  newUser        PNQ             BLR       3\n",
       "84      11  newUser        AMD             DEL       2\n",
       "87      11  newUser        DEL             AMD       2\n",
       "76      10  newUser        PNQ             BLR       2\n",
       "74      10  newUser        DEL             AMD       2\n",
       "71      10  newUser        AMD             DEL       2\n",
       "85      11  newUser        BLR             PNQ       1"
      ]
     },
     "execution_count": 12,
     "metadata": {},
     "output_type": "execute_result"
    }
   ],
   "source": [
    "df11=df1[df1['userType']=='newUser'].sort_values(by='userId',ascending=False)\n",
    "df11"
   ]
  },
  {
   "cell_type": "code",
   "execution_count": 13,
   "metadata": {},
   "outputs": [],
   "source": [
    "df11=pd.DataFrame(df11.groupby(['userType','month','originCode','destinationCode'])['userId'].sum()/df['userType'].count()*100)"
   ]
  },
  {
   "cell_type": "code",
   "execution_count": 14,
   "metadata": {},
   "outputs": [
    {
     "data": {
      "text/html": [
       "<div>\n",
       "<style scoped>\n",
       "    .dataframe tbody tr th:only-of-type {\n",
       "        vertical-align: middle;\n",
       "    }\n",
       "\n",
       "    .dataframe tbody tr th {\n",
       "        vertical-align: top;\n",
       "    }\n",
       "\n",
       "    .dataframe thead th {\n",
       "        text-align: right;\n",
       "    }\n",
       "</style>\n",
       "<table border=\"1\" class=\"dataframe\">\n",
       "  <thead>\n",
       "    <tr style=\"text-align: right;\">\n",
       "      <th></th>\n",
       "      <th>UserType</th>\n",
       "      <th>Month</th>\n",
       "      <th>Origin</th>\n",
       "      <th>Destination</th>\n",
       "      <th>percentage of new users</th>\n",
       "    </tr>\n",
       "  </thead>\n",
       "  <tbody>\n",
       "    <tr>\n",
       "      <th>10</th>\n",
       "      <td>newUser</td>\n",
       "      <td>6</td>\n",
       "      <td>DEL</td>\n",
       "      <td>GAU</td>\n",
       "      <td>2.491173</td>\n",
       "    </tr>\n",
       "    <tr>\n",
       "      <th>9</th>\n",
       "      <td>newUser</td>\n",
       "      <td>6</td>\n",
       "      <td>DEL</td>\n",
       "      <td>AMD</td>\n",
       "      <td>2.236171</td>\n",
       "    </tr>\n",
       "    <tr>\n",
       "      <th>6</th>\n",
       "      <td>newUser</td>\n",
       "      <td>6</td>\n",
       "      <td>AMD</td>\n",
       "      <td>DEL</td>\n",
       "      <td>2.040016</td>\n",
       "    </tr>\n",
       "    <tr>\n",
       "      <th>8</th>\n",
       "      <td>newUser</td>\n",
       "      <td>6</td>\n",
       "      <td>CCU</td>\n",
       "      <td>DEL</td>\n",
       "      <td>2.040016</td>\n",
       "    </tr>\n",
       "    <tr>\n",
       "      <th>11</th>\n",
       "      <td>newUser</td>\n",
       "      <td>6</td>\n",
       "      <td>PNQ</td>\n",
       "      <td>BLR</td>\n",
       "      <td>1.961554</td>\n",
       "    </tr>\n",
       "    <tr>\n",
       "      <th>7</th>\n",
       "      <td>newUser</td>\n",
       "      <td>6</td>\n",
       "      <td>BLR</td>\n",
       "      <td>PNQ</td>\n",
       "      <td>1.294625</td>\n",
       "    </tr>\n",
       "    <tr>\n",
       "      <th>3</th>\n",
       "      <td>newUser</td>\n",
       "      <td>5</td>\n",
       "      <td>DEL</td>\n",
       "      <td>AMD</td>\n",
       "      <td>0.235386</td>\n",
       "    </tr>\n",
       "    <tr>\n",
       "      <th>4</th>\n",
       "      <td>newUser</td>\n",
       "      <td>5</td>\n",
       "      <td>DEL</td>\n",
       "      <td>GAU</td>\n",
       "      <td>0.196155</td>\n",
       "    </tr>\n",
       "    <tr>\n",
       "      <th>2</th>\n",
       "      <td>newUser</td>\n",
       "      <td>5</td>\n",
       "      <td>CCU</td>\n",
       "      <td>DEL</td>\n",
       "      <td>0.196155</td>\n",
       "    </tr>\n",
       "    <tr>\n",
       "      <th>13</th>\n",
       "      <td>newUser</td>\n",
       "      <td>7</td>\n",
       "      <td>BLR</td>\n",
       "      <td>PNQ</td>\n",
       "      <td>0.176540</td>\n",
       "    </tr>\n",
       "    <tr>\n",
       "      <th>20</th>\n",
       "      <td>newUser</td>\n",
       "      <td>8</td>\n",
       "      <td>CCU</td>\n",
       "      <td>DEL</td>\n",
       "      <td>0.176540</td>\n",
       "    </tr>\n",
       "    <tr>\n",
       "      <th>12</th>\n",
       "      <td>newUser</td>\n",
       "      <td>7</td>\n",
       "      <td>AMD</td>\n",
       "      <td>DEL</td>\n",
       "      <td>0.156924</td>\n",
       "    </tr>\n",
       "    <tr>\n",
       "      <th>14</th>\n",
       "      <td>newUser</td>\n",
       "      <td>7</td>\n",
       "      <td>CCU</td>\n",
       "      <td>DEL</td>\n",
       "      <td>0.156924</td>\n",
       "    </tr>\n",
       "    <tr>\n",
       "      <th>41</th>\n",
       "      <td>newUser</td>\n",
       "      <td>12</td>\n",
       "      <td>AMD</td>\n",
       "      <td>DEL</td>\n",
       "      <td>0.156924</td>\n",
       "    </tr>\n",
       "    <tr>\n",
       "      <th>26</th>\n",
       "      <td>newUser</td>\n",
       "      <td>9</td>\n",
       "      <td>DEL</td>\n",
       "      <td>AMD</td>\n",
       "      <td>0.156924</td>\n",
       "    </tr>\n",
       "    <tr>\n",
       "      <th>33</th>\n",
       "      <td>newUser</td>\n",
       "      <td>10</td>\n",
       "      <td>DEL</td>\n",
       "      <td>GAU</td>\n",
       "      <td>0.137309</td>\n",
       "    </tr>\n",
       "    <tr>\n",
       "      <th>1</th>\n",
       "      <td>newUser</td>\n",
       "      <td>5</td>\n",
       "      <td>BLR</td>\n",
       "      <td>PNQ</td>\n",
       "      <td>0.137309</td>\n",
       "    </tr>\n",
       "    <tr>\n",
       "      <th>18</th>\n",
       "      <td>newUser</td>\n",
       "      <td>8</td>\n",
       "      <td>AMD</td>\n",
       "      <td>DEL</td>\n",
       "      <td>0.137309</td>\n",
       "    </tr>\n",
       "    <tr>\n",
       "      <th>42</th>\n",
       "      <td>newUser</td>\n",
       "      <td>12</td>\n",
       "      <td>BLR</td>\n",
       "      <td>PNQ</td>\n",
       "      <td>0.117693</td>\n",
       "    </tr>\n",
       "    <tr>\n",
       "      <th>16</th>\n",
       "      <td>newUser</td>\n",
       "      <td>7</td>\n",
       "      <td>DEL</td>\n",
       "      <td>GAU</td>\n",
       "      <td>0.098078</td>\n",
       "    </tr>\n",
       "    <tr>\n",
       "      <th>27</th>\n",
       "      <td>newUser</td>\n",
       "      <td>9</td>\n",
       "      <td>DEL</td>\n",
       "      <td>GAU</td>\n",
       "      <td>0.098078</td>\n",
       "    </tr>\n",
       "    <tr>\n",
       "      <th>17</th>\n",
       "      <td>newUser</td>\n",
       "      <td>7</td>\n",
       "      <td>PNQ</td>\n",
       "      <td>BLR</td>\n",
       "      <td>0.078462</td>\n",
       "    </tr>\n",
       "    <tr>\n",
       "      <th>45</th>\n",
       "      <td>newUser</td>\n",
       "      <td>12</td>\n",
       "      <td>DEL</td>\n",
       "      <td>GAU</td>\n",
       "      <td>0.078462</td>\n",
       "    </tr>\n",
       "    <tr>\n",
       "      <th>15</th>\n",
       "      <td>newUser</td>\n",
       "      <td>7</td>\n",
       "      <td>DEL</td>\n",
       "      <td>AMD</td>\n",
       "      <td>0.078462</td>\n",
       "    </tr>\n",
       "    <tr>\n",
       "      <th>22</th>\n",
       "      <td>newUser</td>\n",
       "      <td>8</td>\n",
       "      <td>DEL</td>\n",
       "      <td>GAU</td>\n",
       "      <td>0.078462</td>\n",
       "    </tr>\n",
       "    <tr>\n",
       "      <th>21</th>\n",
       "      <td>newUser</td>\n",
       "      <td>8</td>\n",
       "      <td>DEL</td>\n",
       "      <td>AMD</td>\n",
       "      <td>0.078462</td>\n",
       "    </tr>\n",
       "    <tr>\n",
       "      <th>19</th>\n",
       "      <td>newUser</td>\n",
       "      <td>8</td>\n",
       "      <td>BLR</td>\n",
       "      <td>PNQ</td>\n",
       "      <td>0.078462</td>\n",
       "    </tr>\n",
       "    <tr>\n",
       "      <th>37</th>\n",
       "      <td>newUser</td>\n",
       "      <td>11</td>\n",
       "      <td>CCU</td>\n",
       "      <td>DEL</td>\n",
       "      <td>0.078462</td>\n",
       "    </tr>\n",
       "    <tr>\n",
       "      <th>5</th>\n",
       "      <td>newUser</td>\n",
       "      <td>5</td>\n",
       "      <td>PNQ</td>\n",
       "      <td>BLR</td>\n",
       "      <td>0.078462</td>\n",
       "    </tr>\n",
       "    <tr>\n",
       "      <th>30</th>\n",
       "      <td>newUser</td>\n",
       "      <td>10</td>\n",
       "      <td>BLR</td>\n",
       "      <td>PNQ</td>\n",
       "      <td>0.078462</td>\n",
       "    </tr>\n",
       "    <tr>\n",
       "      <th>40</th>\n",
       "      <td>newUser</td>\n",
       "      <td>11</td>\n",
       "      <td>PNQ</td>\n",
       "      <td>BLR</td>\n",
       "      <td>0.058847</td>\n",
       "    </tr>\n",
       "    <tr>\n",
       "      <th>0</th>\n",
       "      <td>newUser</td>\n",
       "      <td>5</td>\n",
       "      <td>AMD</td>\n",
       "      <td>DEL</td>\n",
       "      <td>0.058847</td>\n",
       "    </tr>\n",
       "    <tr>\n",
       "      <th>43</th>\n",
       "      <td>newUser</td>\n",
       "      <td>12</td>\n",
       "      <td>CCU</td>\n",
       "      <td>DEL</td>\n",
       "      <td>0.058847</td>\n",
       "    </tr>\n",
       "    <tr>\n",
       "      <th>44</th>\n",
       "      <td>newUser</td>\n",
       "      <td>12</td>\n",
       "      <td>DEL</td>\n",
       "      <td>AMD</td>\n",
       "      <td>0.058847</td>\n",
       "    </tr>\n",
       "    <tr>\n",
       "      <th>39</th>\n",
       "      <td>newUser</td>\n",
       "      <td>11</td>\n",
       "      <td>DEL</td>\n",
       "      <td>GAU</td>\n",
       "      <td>0.058847</td>\n",
       "    </tr>\n",
       "    <tr>\n",
       "      <th>23</th>\n",
       "      <td>newUser</td>\n",
       "      <td>8</td>\n",
       "      <td>PNQ</td>\n",
       "      <td>BLR</td>\n",
       "      <td>0.058847</td>\n",
       "    </tr>\n",
       "    <tr>\n",
       "      <th>31</th>\n",
       "      <td>newUser</td>\n",
       "      <td>10</td>\n",
       "      <td>CCU</td>\n",
       "      <td>DEL</td>\n",
       "      <td>0.058847</td>\n",
       "    </tr>\n",
       "    <tr>\n",
       "      <th>28</th>\n",
       "      <td>newUser</td>\n",
       "      <td>9</td>\n",
       "      <td>PNQ</td>\n",
       "      <td>BLR</td>\n",
       "      <td>0.058847</td>\n",
       "    </tr>\n",
       "    <tr>\n",
       "      <th>25</th>\n",
       "      <td>newUser</td>\n",
       "      <td>9</td>\n",
       "      <td>BLR</td>\n",
       "      <td>PNQ</td>\n",
       "      <td>0.058847</td>\n",
       "    </tr>\n",
       "    <tr>\n",
       "      <th>24</th>\n",
       "      <td>newUser</td>\n",
       "      <td>9</td>\n",
       "      <td>AMD</td>\n",
       "      <td>DEL</td>\n",
       "      <td>0.058847</td>\n",
       "    </tr>\n",
       "    <tr>\n",
       "      <th>46</th>\n",
       "      <td>newUser</td>\n",
       "      <td>12</td>\n",
       "      <td>PNQ</td>\n",
       "      <td>BLR</td>\n",
       "      <td>0.058847</td>\n",
       "    </tr>\n",
       "    <tr>\n",
       "      <th>35</th>\n",
       "      <td>newUser</td>\n",
       "      <td>11</td>\n",
       "      <td>AMD</td>\n",
       "      <td>DEL</td>\n",
       "      <td>0.039231</td>\n",
       "    </tr>\n",
       "    <tr>\n",
       "      <th>38</th>\n",
       "      <td>newUser</td>\n",
       "      <td>11</td>\n",
       "      <td>DEL</td>\n",
       "      <td>AMD</td>\n",
       "      <td>0.039231</td>\n",
       "    </tr>\n",
       "    <tr>\n",
       "      <th>34</th>\n",
       "      <td>newUser</td>\n",
       "      <td>10</td>\n",
       "      <td>PNQ</td>\n",
       "      <td>BLR</td>\n",
       "      <td>0.039231</td>\n",
       "    </tr>\n",
       "    <tr>\n",
       "      <th>32</th>\n",
       "      <td>newUser</td>\n",
       "      <td>10</td>\n",
       "      <td>DEL</td>\n",
       "      <td>AMD</td>\n",
       "      <td>0.039231</td>\n",
       "    </tr>\n",
       "    <tr>\n",
       "      <th>29</th>\n",
       "      <td>newUser</td>\n",
       "      <td>10</td>\n",
       "      <td>AMD</td>\n",
       "      <td>DEL</td>\n",
       "      <td>0.039231</td>\n",
       "    </tr>\n",
       "    <tr>\n",
       "      <th>36</th>\n",
       "      <td>newUser</td>\n",
       "      <td>11</td>\n",
       "      <td>BLR</td>\n",
       "      <td>PNQ</td>\n",
       "      <td>0.019616</td>\n",
       "    </tr>\n",
       "  </tbody>\n",
       "</table>\n",
       "</div>"
      ],
      "text/plain": [
       "   UserType  Month Origin Destination  percentage of new users\n",
       "10  newUser      6    DEL         GAU                 2.491173\n",
       "9   newUser      6    DEL         AMD                 2.236171\n",
       "6   newUser      6    AMD         DEL                 2.040016\n",
       "8   newUser      6    CCU         DEL                 2.040016\n",
       "11  newUser      6    PNQ         BLR                 1.961554\n",
       "7   newUser      6    BLR         PNQ                 1.294625\n",
       "3   newUser      5    DEL         AMD                 0.235386\n",
       "4   newUser      5    DEL         GAU                 0.196155\n",
       "2   newUser      5    CCU         DEL                 0.196155\n",
       "13  newUser      7    BLR         PNQ                 0.176540\n",
       "20  newUser      8    CCU         DEL                 0.176540\n",
       "12  newUser      7    AMD         DEL                 0.156924\n",
       "14  newUser      7    CCU         DEL                 0.156924\n",
       "41  newUser     12    AMD         DEL                 0.156924\n",
       "26  newUser      9    DEL         AMD                 0.156924\n",
       "33  newUser     10    DEL         GAU                 0.137309\n",
       "1   newUser      5    BLR         PNQ                 0.137309\n",
       "18  newUser      8    AMD         DEL                 0.137309\n",
       "42  newUser     12    BLR         PNQ                 0.117693\n",
       "16  newUser      7    DEL         GAU                 0.098078\n",
       "27  newUser      9    DEL         GAU                 0.098078\n",
       "17  newUser      7    PNQ         BLR                 0.078462\n",
       "45  newUser     12    DEL         GAU                 0.078462\n",
       "15  newUser      7    DEL         AMD                 0.078462\n",
       "22  newUser      8    DEL         GAU                 0.078462\n",
       "21  newUser      8    DEL         AMD                 0.078462\n",
       "19  newUser      8    BLR         PNQ                 0.078462\n",
       "37  newUser     11    CCU         DEL                 0.078462\n",
       "5   newUser      5    PNQ         BLR                 0.078462\n",
       "30  newUser     10    BLR         PNQ                 0.078462\n",
       "40  newUser     11    PNQ         BLR                 0.058847\n",
       "0   newUser      5    AMD         DEL                 0.058847\n",
       "43  newUser     12    CCU         DEL                 0.058847\n",
       "44  newUser     12    DEL         AMD                 0.058847\n",
       "39  newUser     11    DEL         GAU                 0.058847\n",
       "23  newUser      8    PNQ         BLR                 0.058847\n",
       "31  newUser     10    CCU         DEL                 0.058847\n",
       "28  newUser      9    PNQ         BLR                 0.058847\n",
       "25  newUser      9    BLR         PNQ                 0.058847\n",
       "24  newUser      9    AMD         DEL                 0.058847\n",
       "46  newUser     12    PNQ         BLR                 0.058847\n",
       "35  newUser     11    AMD         DEL                 0.039231\n",
       "38  newUser     11    DEL         AMD                 0.039231\n",
       "34  newUser     10    PNQ         BLR                 0.039231\n",
       "32  newUser     10    DEL         AMD                 0.039231\n",
       "29  newUser     10    AMD         DEL                 0.039231\n",
       "36  newUser     11    BLR         PNQ                 0.019616"
      ]
     },
     "execution_count": 14,
     "metadata": {},
     "output_type": "execute_result"
    }
   ],
   "source": [
    "df11=df11.reset_index()\n",
    "df11.columns=['UserType','Month','Origin','Destination','percentage of new users']\n",
    "df11.sort_values(by='percentage of new users',ascending=False)"
   ]
  },
  {
   "cell_type": "markdown",
   "metadata": {},
   "source": [
    "### 3.1 Summary:\n",
    "- As per the data in the month of June we have seen large number of demands this can be due to summer vacations\n",
    "- DEL- GUA, DEL - AMD, AMD - DEL and CCU- DEL have seen highest number of new users which is 2% more to rest other areas"
   ]
  },
  {
   "cell_type": "markdown",
   "metadata": {},
   "source": [
    "### 3.2) Find the number of users who have booked more than twice on our Web platforms?"
   ]
  },
  {
   "cell_type": "code",
   "execution_count": 15,
   "metadata": {},
   "outputs": [],
   "source": [
    "df2 = df.loc[(df.devicePlatform=='iximweb') | (df.devicePlatform=='ixiweb')]\n",
    "df2=df2.groupby(['devicePlatform','userId'])['bookingId'].count()\n",
    "df2=df2.to_frame()\n",
    "df2=df2.reset_index()\n",
    "a=df2[df2['bookingId']>=2].sort_values(by='bookingId',ascending=False) #included 2 and more than 2"
   ]
  },
  {
   "cell_type": "code",
   "execution_count": 16,
   "metadata": {
    "scrolled": false
   },
   "outputs": [
    {
     "data": {
      "text/html": [
       "<div>\n",
       "<style scoped>\n",
       "    .dataframe tbody tr th:only-of-type {\n",
       "        vertical-align: middle;\n",
       "    }\n",
       "\n",
       "    .dataframe tbody tr th {\n",
       "        vertical-align: top;\n",
       "    }\n",
       "\n",
       "    .dataframe thead th {\n",
       "        text-align: right;\n",
       "    }\n",
       "</style>\n",
       "<table border=\"1\" class=\"dataframe\">\n",
       "  <thead>\n",
       "    <tr style=\"text-align: right;\">\n",
       "      <th></th>\n",
       "      <th>devicePlatform</th>\n",
       "      <th>userId</th>\n",
       "      <th>bookingId</th>\n",
       "    </tr>\n",
       "  </thead>\n",
       "  <tbody>\n",
       "    <tr>\n",
       "      <th>250</th>\n",
       "      <td>ixiweb</td>\n",
       "      <td>56f7b514386c4c09dcb01281</td>\n",
       "      <td>7</td>\n",
       "    </tr>\n",
       "    <tr>\n",
       "      <th>58</th>\n",
       "      <td>iximweb</td>\n",
       "      <td>59a6560d4bae682fbeaab8f3</td>\n",
       "      <td>5</td>\n",
       "    </tr>\n",
       "    <tr>\n",
       "      <th>361</th>\n",
       "      <td>ixiweb</td>\n",
       "      <td>58d524bf2b7cfc27bd075290</td>\n",
       "      <td>4</td>\n",
       "    </tr>\n",
       "    <tr>\n",
       "      <th>352</th>\n",
       "      <td>ixiweb</td>\n",
       "      <td>58ab09eea1b406208fde34b4</td>\n",
       "      <td>4</td>\n",
       "    </tr>\n",
       "    <tr>\n",
       "      <th>456</th>\n",
       "      <td>ixiweb</td>\n",
       "      <td>597ebeaa2b7cfc787ee34b40</td>\n",
       "      <td>4</td>\n",
       "    </tr>\n",
       "    <tr>\n",
       "      <th>368</th>\n",
       "      <td>ixiweb</td>\n",
       "      <td>58e3d6ee2b7cfc4babaff329</td>\n",
       "      <td>4</td>\n",
       "    </tr>\n",
       "    <tr>\n",
       "      <th>700</th>\n",
       "      <td>ixiweb</td>\n",
       "      <td>5ae022ff99fb750d0267185e</td>\n",
       "      <td>4</td>\n",
       "    </tr>\n",
       "    <tr>\n",
       "      <th>191</th>\n",
       "      <td>ixiweb</td>\n",
       "      <td>54dde50ce4b01e439aa3afb6</td>\n",
       "      <td>4</td>\n",
       "    </tr>\n",
       "    <tr>\n",
       "      <th>127</th>\n",
       "      <td>iximweb</td>\n",
       "      <td>5b0ea392fe35411273ef776c</td>\n",
       "      <td>4</td>\n",
       "    </tr>\n",
       "    <tr>\n",
       "      <th>284</th>\n",
       "      <td>ixiweb</td>\n",
       "      <td>578dacb7a61bd10baa77eb48</td>\n",
       "      <td>4</td>\n",
       "    </tr>\n",
       "    <tr>\n",
       "      <th>669</th>\n",
       "      <td>ixiweb</td>\n",
       "      <td>5a9be14dd9401f33979dd4ee</td>\n",
       "      <td>3</td>\n",
       "    </tr>\n",
       "    <tr>\n",
       "      <th>529</th>\n",
       "      <td>ixiweb</td>\n",
       "      <td>59edaf329dea266e8daf27b3</td>\n",
       "      <td>3</td>\n",
       "    </tr>\n",
       "    <tr>\n",
       "      <th>117</th>\n",
       "      <td>iximweb</td>\n",
       "      <td>5af15a5c60a5bf47876ce72b</td>\n",
       "      <td>3</td>\n",
       "    </tr>\n",
       "    <tr>\n",
       "      <th>360</th>\n",
       "      <td>ixiweb</td>\n",
       "      <td>58d28a3a2b7cfc4aa573b0b8</td>\n",
       "      <td>3</td>\n",
       "    </tr>\n",
       "    <tr>\n",
       "      <th>527</th>\n",
       "      <td>ixiweb</td>\n",
       "      <td>59ea0ff39dea26750f0c87c0</td>\n",
       "      <td>3</td>\n",
       "    </tr>\n",
       "  </tbody>\n",
       "</table>\n",
       "</div>"
      ],
      "text/plain": [
       "    devicePlatform                    userId  bookingId\n",
       "250         ixiweb  56f7b514386c4c09dcb01281          7\n",
       "58         iximweb  59a6560d4bae682fbeaab8f3          5\n",
       "361         ixiweb  58d524bf2b7cfc27bd075290          4\n",
       "352         ixiweb  58ab09eea1b406208fde34b4          4\n",
       "456         ixiweb  597ebeaa2b7cfc787ee34b40          4\n",
       "368         ixiweb  58e3d6ee2b7cfc4babaff329          4\n",
       "700         ixiweb  5ae022ff99fb750d0267185e          4\n",
       "191         ixiweb  54dde50ce4b01e439aa3afb6          4\n",
       "127        iximweb  5b0ea392fe35411273ef776c          4\n",
       "284         ixiweb  578dacb7a61bd10baa77eb48          4\n",
       "669         ixiweb  5a9be14dd9401f33979dd4ee          3\n",
       "529         ixiweb  59edaf329dea266e8daf27b3          3\n",
       "117        iximweb  5af15a5c60a5bf47876ce72b          3\n",
       "360         ixiweb  58d28a3a2b7cfc4aa573b0b8          3\n",
       "527         ixiweb  59ea0ff39dea26750f0c87c0          3"
      ]
     },
     "execution_count": 16,
     "metadata": {},
     "output_type": "execute_result"
    }
   ],
   "source": [
    "a.head(15)"
   ]
  },
  {
   "cell_type": "code",
   "execution_count": 17,
   "metadata": {},
   "outputs": [
    {
     "data": {
      "text/html": [
       "<div>\n",
       "<style scoped>\n",
       "    .dataframe tbody tr th:only-of-type {\n",
       "        vertical-align: middle;\n",
       "    }\n",
       "\n",
       "    .dataframe tbody tr th {\n",
       "        vertical-align: top;\n",
       "    }\n",
       "\n",
       "    .dataframe thead th {\n",
       "        text-align: right;\n",
       "    }\n",
       "</style>\n",
       "<table border=\"1\" class=\"dataframe\">\n",
       "  <thead>\n",
       "    <tr style=\"text-align: right;\">\n",
       "      <th></th>\n",
       "      <th>bookingId</th>\n",
       "    </tr>\n",
       "  </thead>\n",
       "  <tbody>\n",
       "    <tr>\n",
       "      <th>count</th>\n",
       "      <td>138.000000</td>\n",
       "    </tr>\n",
       "    <tr>\n",
       "      <th>mean</th>\n",
       "      <td>2.311594</td>\n",
       "    </tr>\n",
       "    <tr>\n",
       "      <th>std</th>\n",
       "      <td>0.722937</td>\n",
       "    </tr>\n",
       "    <tr>\n",
       "      <th>min</th>\n",
       "      <td>2.000000</td>\n",
       "    </tr>\n",
       "    <tr>\n",
       "      <th>25%</th>\n",
       "      <td>2.000000</td>\n",
       "    </tr>\n",
       "    <tr>\n",
       "      <th>50%</th>\n",
       "      <td>2.000000</td>\n",
       "    </tr>\n",
       "    <tr>\n",
       "      <th>75%</th>\n",
       "      <td>2.000000</td>\n",
       "    </tr>\n",
       "    <tr>\n",
       "      <th>max</th>\n",
       "      <td>7.000000</td>\n",
       "    </tr>\n",
       "  </tbody>\n",
       "</table>\n",
       "</div>"
      ],
      "text/plain": [
       "        bookingId\n",
       "count  138.000000\n",
       "mean     2.311594\n",
       "std      0.722937\n",
       "min      2.000000\n",
       "25%      2.000000\n",
       "50%      2.000000\n",
       "75%      2.000000\n",
       "max      7.000000"
      ]
     },
     "execution_count": 17,
     "metadata": {},
     "output_type": "execute_result"
    }
   ],
   "source": [
    "a.describe()"
   ]
  },
  {
   "cell_type": "code",
   "execution_count": 18,
   "metadata": {
    "scrolled": true
   },
   "outputs": [
    {
     "data": {
      "text/plain": [
       "138"
      ]
     },
     "execution_count": 18,
     "metadata": {},
     "output_type": "execute_result"
    }
   ],
   "source": [
    "a['userId'].count()"
   ]
  },
  {
   "cell_type": "code",
   "execution_count": 19,
   "metadata": {},
   "outputs": [
    {
     "data": {
      "text/plain": [
       "devicePlatform\n",
       "iximweb     25\n",
       "ixiweb     113\n",
       "Name: userId, dtype: int64"
      ]
     },
     "execution_count": 19,
     "metadata": {},
     "output_type": "execute_result"
    }
   ],
   "source": [
    "a.groupby('devicePlatform')['userId'].count()"
   ]
  },
  {
   "cell_type": "code",
   "execution_count": 20,
   "metadata": {
    "scrolled": false
   },
   "outputs": [
    {
     "data": {
      "image/png": "[encoded data removed]",
      "text/plain": [
       "<Figure size 432x288 with 1 Axes>"
      ]
     },
     "metadata": {
      "needs_background": "light"
     },
     "output_type": "display_data"
    }
   ],
   "source": [
    "sns.countplot(a['devicePlatform'])\n",
    "plt.show()"
   ]
  },
  {
   "cell_type": "markdown",
   "metadata": {},
   "source": [
    "### 3.2 Summary :\n",
    "- Total number of users who have booked twice or more than twice on Web platforms(iximweb' and 'ixiweb') are 138 users\n",
    "- Majority of the booking have been done through 'ixiweb' which are 113 and on 'icimweb' are 25"
   ]
  },
  {
   "cell_type": "markdown",
   "metadata": {},
   "source": [
    "### 3.3) What is trend for Advance Bookers."
   ]
  },
  {
   "cell_type": "code",
   "execution_count": 21,
   "metadata": {},
   "outputs": [
    {
     "data": {
      "text/html": [
       "<div>\n",
       "<style scoped>\n",
       "    .dataframe tbody tr th:only-of-type {\n",
       "        vertical-align: middle;\n",
       "    }\n",
       "\n",
       "    .dataframe tbody tr th {\n",
       "        vertical-align: top;\n",
       "    }\n",
       "\n",
       "    .dataframe thead th {\n",
       "        text-align: right;\n",
       "    }\n",
       "</style>\n",
       "<table border=\"1\" class=\"dataframe\">\n",
       "  <thead>\n",
       "    <tr style=\"text-align: right;\">\n",
       "      <th></th>\n",
       "      <th>userId</th>\n",
       "      <th>bookingId</th>\n",
       "      <th>bookingDate</th>\n",
       "      <th>journeyType</th>\n",
       "      <th>isInternational</th>\n",
       "      <th>providerId</th>\n",
       "      <th>originCode</th>\n",
       "      <th>destinationCode</th>\n",
       "      <th>cabinClass</th>\n",
       "      <th>devicePlatform</th>\n",
       "      <th>totalFare</th>\n",
       "      <th>onwardDeparture</th>\n",
       "      <th>userType</th>\n",
       "    </tr>\n",
       "  </thead>\n",
       "  <tbody>\n",
       "    <tr>\n",
       "      <th>0</th>\n",
       "      <td>51b022a5e4b0aaef8f15cdb5</td>\n",
       "      <td>18062077104</td>\n",
       "      <td>2018-06-20 22:16:00</td>\n",
       "      <td>One way</td>\n",
       "      <td>False</td>\n",
       "      <td>12</td>\n",
       "      <td>AMD</td>\n",
       "      <td>DEL</td>\n",
       "      <td>ECONOMY</td>\n",
       "      <td>iximaad</td>\n",
       "      <td>1937</td>\n",
       "      <td>2018-07-08 23:35:00</td>\n",
       "      <td>newUser</td>\n",
       "    </tr>\n",
       "    <tr>\n",
       "      <th>1</th>\n",
       "      <td>52381fa4e4b0802b434024be</td>\n",
       "      <td>1.80625E+11</td>\n",
       "      <td>2018-06-25 15:51:00</td>\n",
       "      <td>One way</td>\n",
       "      <td>False</td>\n",
       "      <td>12</td>\n",
       "      <td>DEL</td>\n",
       "      <td>GAU</td>\n",
       "      <td>ECONOMY</td>\n",
       "      <td>iximaad</td>\n",
       "      <td>4633</td>\n",
       "      <td>2018-07-27 12:50:00</td>\n",
       "      <td>oldUser</td>\n",
       "    </tr>\n",
       "    <tr>\n",
       "      <th>2</th>\n",
       "      <td>52d952bbe4b0093a9b9cbf78</td>\n",
       "      <td>1.80612E+11</td>\n",
       "      <td>2018-12-06 20:33:00</td>\n",
       "      <td>One way</td>\n",
       "      <td>False</td>\n",
       "      <td>12</td>\n",
       "      <td>PNQ</td>\n",
       "      <td>BLR</td>\n",
       "      <td>ECONOMY</td>\n",
       "      <td>iximaad</td>\n",
       "      <td>3889</td>\n",
       "      <td>2018-12-06 19:55:00</td>\n",
       "      <td>oldUser</td>\n",
       "    </tr>\n",
       "    <tr>\n",
       "      <th>3</th>\n",
       "      <td>530779c1e4b00a4950542af3</td>\n",
       "      <td>5.0684E+11</td>\n",
       "      <td>2018-05-06 23:27:00</td>\n",
       "      <td>One way</td>\n",
       "      <td>False</td>\n",
       "      <td>103</td>\n",
       "      <td>AMD</td>\n",
       "      <td>DEL</td>\n",
       "      <td>ECONOMY</td>\n",
       "      <td>iximaio</td>\n",
       "      <td>11984</td>\n",
       "      <td>2018-06-06 14:10:00</td>\n",
       "      <td>oldUser</td>\n",
       "    </tr>\n",
       "    <tr>\n",
       "      <th>4</th>\n",
       "      <td>530779c1e4b00a4950542af3</td>\n",
       "      <td>PRL06E2WAA3</td>\n",
       "      <td>2018-06-19 14:52:00</td>\n",
       "      <td>One way</td>\n",
       "      <td>False</td>\n",
       "      <td>1020</td>\n",
       "      <td>DEL</td>\n",
       "      <td>GAU</td>\n",
       "      <td>ECONOMY</td>\n",
       "      <td>iximaio</td>\n",
       "      <td>6957</td>\n",
       "      <td>2018-06-20 05:20:00</td>\n",
       "      <td>oldUser</td>\n",
       "    </tr>\n",
       "  </tbody>\n",
       "</table>\n",
       "</div>"
      ],
      "text/plain": [
       "                     userId    bookingId         bookingDate journeyType  \\\n",
       "0  51b022a5e4b0aaef8f15cdb5  18062077104 2018-06-20 22:16:00     One way   \n",
       "1  52381fa4e4b0802b434024be  1.80625E+11 2018-06-25 15:51:00     One way   \n",
       "2  52d952bbe4b0093a9b9cbf78  1.80612E+11 2018-12-06 20:33:00     One way   \n",
       "3  530779c1e4b00a4950542af3   5.0684E+11 2018-05-06 23:27:00     One way   \n",
       "4  530779c1e4b00a4950542af3  PRL06E2WAA3 2018-06-19 14:52:00     One way   \n",
       "\n",
       "   isInternational  providerId originCode destinationCode cabinClass  \\\n",
       "0            False          12        AMD             DEL    ECONOMY   \n",
       "1            False          12        DEL             GAU    ECONOMY   \n",
       "2            False          12        PNQ             BLR    ECONOMY   \n",
       "3            False         103        AMD             DEL    ECONOMY   \n",
       "4            False        1020        DEL             GAU    ECONOMY   \n",
       "\n",
       "  devicePlatform  totalFare     onwardDeparture userType  \n",
       "0        iximaad       1937 2018-07-08 23:35:00  newUser  \n",
       "1        iximaad       4633 2018-07-27 12:50:00  oldUser  \n",
       "2        iximaad       3889 2018-12-06 19:55:00  oldUser  \n",
       "3        iximaio      11984 2018-06-06 14:10:00  oldUser  \n",
       "4        iximaio       6957 2018-06-20 05:20:00  oldUser  "
      ]
     },
     "execution_count": 21,
     "metadata": {},
     "output_type": "execute_result"
    }
   ],
   "source": [
    "df.head()"
   ]
  },
  {
   "cell_type": "code",
   "execution_count": 22,
   "metadata": {},
   "outputs": [],
   "source": [
    "df['onwardDeparture']=df['onwardDeparture'].dt.tz_localize(\"GMT\").dt.tz_convert('Asia/Kolkata')"
   ]
  },
  {
   "cell_type": "code",
   "execution_count": 23,
   "metadata": {},
   "outputs": [],
   "source": [
    "df['onwardDeparture']=pd.to_datetime(df['onwardDeparture'])"
   ]
  },
  {
   "cell_type": "markdown",
   "metadata": {},
   "source": [
    "### - NOTE:\n",
    "    - Converting onwatDeparture timestamp from GMT to IST because bookingDate timestamp is an IST format\n",
    "    - Need to take the difference between both the Dates through which we will get the Advance Booker details"
   ]
  },
  {
   "cell_type": "code",
   "execution_count": 24,
   "metadata": {},
   "outputs": [
    {
     "data": {
      "text/html": [
       "<div>\n",
       "<style scoped>\n",
       "    .dataframe tbody tr th:only-of-type {\n",
       "        vertical-align: middle;\n",
       "    }\n",
       "\n",
       "    .dataframe tbody tr th {\n",
       "        vertical-align: top;\n",
       "    }\n",
       "\n",
       "    .dataframe thead th {\n",
       "        text-align: right;\n",
       "    }\n",
       "</style>\n",
       "<table border=\"1\" class=\"dataframe\">\n",
       "  <thead>\n",
       "    <tr style=\"text-align: right;\">\n",
       "      <th></th>\n",
       "      <th>userId</th>\n",
       "      <th>bookingId</th>\n",
       "      <th>bookingDate</th>\n",
       "      <th>journeyType</th>\n",
       "      <th>isInternational</th>\n",
       "      <th>providerId</th>\n",
       "      <th>originCode</th>\n",
       "      <th>destinationCode</th>\n",
       "      <th>cabinClass</th>\n",
       "      <th>devicePlatform</th>\n",
       "      <th>totalFare</th>\n",
       "      <th>onwardDeparture</th>\n",
       "      <th>userType</th>\n",
       "    </tr>\n",
       "  </thead>\n",
       "  <tbody>\n",
       "    <tr>\n",
       "      <th>0</th>\n",
       "      <td>51b022a5e4b0aaef8f15cdb5</td>\n",
       "      <td>18062077104</td>\n",
       "      <td>2018-06-20 22:16:00</td>\n",
       "      <td>One way</td>\n",
       "      <td>False</td>\n",
       "      <td>12</td>\n",
       "      <td>AMD</td>\n",
       "      <td>DEL</td>\n",
       "      <td>ECONOMY</td>\n",
       "      <td>iximaad</td>\n",
       "      <td>1937</td>\n",
       "      <td>2018-07-09 05:05:00+05:30</td>\n",
       "      <td>newUser</td>\n",
       "    </tr>\n",
       "    <tr>\n",
       "      <th>1</th>\n",
       "      <td>52381fa4e4b0802b434024be</td>\n",
       "      <td>1.80625E+11</td>\n",
       "      <td>2018-06-25 15:51:00</td>\n",
       "      <td>One way</td>\n",
       "      <td>False</td>\n",
       "      <td>12</td>\n",
       "      <td>DEL</td>\n",
       "      <td>GAU</td>\n",
       "      <td>ECONOMY</td>\n",
       "      <td>iximaad</td>\n",
       "      <td>4633</td>\n",
       "      <td>2018-07-27 18:20:00+05:30</td>\n",
       "      <td>oldUser</td>\n",
       "    </tr>\n",
       "    <tr>\n",
       "      <th>2</th>\n",
       "      <td>52d952bbe4b0093a9b9cbf78</td>\n",
       "      <td>1.80612E+11</td>\n",
       "      <td>2018-12-06 20:33:00</td>\n",
       "      <td>One way</td>\n",
       "      <td>False</td>\n",
       "      <td>12</td>\n",
       "      <td>PNQ</td>\n",
       "      <td>BLR</td>\n",
       "      <td>ECONOMY</td>\n",
       "      <td>iximaad</td>\n",
       "      <td>3889</td>\n",
       "      <td>2018-12-07 01:25:00+05:30</td>\n",
       "      <td>oldUser</td>\n",
       "    </tr>\n",
       "    <tr>\n",
       "      <th>3</th>\n",
       "      <td>530779c1e4b00a4950542af3</td>\n",
       "      <td>5.0684E+11</td>\n",
       "      <td>2018-05-06 23:27:00</td>\n",
       "      <td>One way</td>\n",
       "      <td>False</td>\n",
       "      <td>103</td>\n",
       "      <td>AMD</td>\n",
       "      <td>DEL</td>\n",
       "      <td>ECONOMY</td>\n",
       "      <td>iximaio</td>\n",
       "      <td>11984</td>\n",
       "      <td>2018-06-06 19:40:00+05:30</td>\n",
       "      <td>oldUser</td>\n",
       "    </tr>\n",
       "    <tr>\n",
       "      <th>4</th>\n",
       "      <td>530779c1e4b00a4950542af3</td>\n",
       "      <td>PRL06E2WAA3</td>\n",
       "      <td>2018-06-19 14:52:00</td>\n",
       "      <td>One way</td>\n",
       "      <td>False</td>\n",
       "      <td>1020</td>\n",
       "      <td>DEL</td>\n",
       "      <td>GAU</td>\n",
       "      <td>ECONOMY</td>\n",
       "      <td>iximaio</td>\n",
       "      <td>6957</td>\n",
       "      <td>2018-06-20 10:50:00+05:30</td>\n",
       "      <td>oldUser</td>\n",
       "    </tr>\n",
       "  </tbody>\n",
       "</table>\n",
       "</div>"
      ],
      "text/plain": [
       "                     userId    bookingId         bookingDate journeyType  \\\n",
       "0  51b022a5e4b0aaef8f15cdb5  18062077104 2018-06-20 22:16:00     One way   \n",
       "1  52381fa4e4b0802b434024be  1.80625E+11 2018-06-25 15:51:00     One way   \n",
       "2  52d952bbe4b0093a9b9cbf78  1.80612E+11 2018-12-06 20:33:00     One way   \n",
       "3  530779c1e4b00a4950542af3   5.0684E+11 2018-05-06 23:27:00     One way   \n",
       "4  530779c1e4b00a4950542af3  PRL06E2WAA3 2018-06-19 14:52:00     One way   \n",
       "\n",
       "   isInternational  providerId originCode destinationCode cabinClass  \\\n",
       "0            False          12        AMD             DEL    ECONOMY   \n",
       "1            False          12        DEL             GAU    ECONOMY   \n",
       "2            False          12        PNQ             BLR    ECONOMY   \n",
       "3            False         103        AMD             DEL    ECONOMY   \n",
       "4            False        1020        DEL             GAU    ECONOMY   \n",
       "\n",
       "  devicePlatform  totalFare           onwardDeparture userType  \n",
       "0        iximaad       1937 2018-07-09 05:05:00+05:30  newUser  \n",
       "1        iximaad       4633 2018-07-27 18:20:00+05:30  oldUser  \n",
       "2        iximaad       3889 2018-12-07 01:25:00+05:30  oldUser  \n",
       "3        iximaio      11984 2018-06-06 19:40:00+05:30  oldUser  \n",
       "4        iximaio       6957 2018-06-20 10:50:00+05:30  oldUser  "
      ]
     },
     "execution_count": 24,
     "metadata": {},
     "output_type": "execute_result"
    }
   ],
   "source": [
    "df.head()"
   ]
  },
  {
   "cell_type": "markdown",
   "metadata": {},
   "source": [
    "### Feature Engineering\n",
    "### -NOTE:\n",
    "#### Creating new column : \"'Advance_bookers_day_Difference\" which will give the number of days from Booking to Departure"
   ]
  },
  {
   "cell_type": "code",
   "execution_count": 25,
   "metadata": {
    "scrolled": true
   },
   "outputs": [
    {
     "data": {
      "text/html": [
       "<div>\n",
       "<style scoped>\n",
       "    .dataframe tbody tr th:only-of-type {\n",
       "        vertical-align: middle;\n",
       "    }\n",
       "\n",
       "    .dataframe tbody tr th {\n",
       "        vertical-align: top;\n",
       "    }\n",
       "\n",
       "    .dataframe thead th {\n",
       "        text-align: right;\n",
       "    }\n",
       "</style>\n",
       "<table border=\"1\" class=\"dataframe\">\n",
       "  <thead>\n",
       "    <tr style=\"text-align: right;\">\n",
       "      <th></th>\n",
       "      <th>userId</th>\n",
       "      <th>bookingId</th>\n",
       "      <th>bookingDate</th>\n",
       "      <th>journeyType</th>\n",
       "      <th>isInternational</th>\n",
       "      <th>providerId</th>\n",
       "      <th>originCode</th>\n",
       "      <th>destinationCode</th>\n",
       "      <th>cabinClass</th>\n",
       "      <th>devicePlatform</th>\n",
       "      <th>totalFare</th>\n",
       "      <th>onwardDeparture</th>\n",
       "      <th>userType</th>\n",
       "      <th>Advance_bookers_day_Difference</th>\n",
       "    </tr>\n",
       "  </thead>\n",
       "  <tbody>\n",
       "    <tr>\n",
       "      <th>0</th>\n",
       "      <td>51b022a5e4b0aaef8f15cdb5</td>\n",
       "      <td>18062077104</td>\n",
       "      <td>2018-06-20 22:16:00</td>\n",
       "      <td>One way</td>\n",
       "      <td>False</td>\n",
       "      <td>12</td>\n",
       "      <td>AMD</td>\n",
       "      <td>DEL</td>\n",
       "      <td>ECONOMY</td>\n",
       "      <td>iximaad</td>\n",
       "      <td>1937</td>\n",
       "      <td>2018-07-09 05:05:00+05:30</td>\n",
       "      <td>newUser</td>\n",
       "      <td>19 days</td>\n",
       "    </tr>\n",
       "    <tr>\n",
       "      <th>1</th>\n",
       "      <td>52381fa4e4b0802b434024be</td>\n",
       "      <td>1.80625E+11</td>\n",
       "      <td>2018-06-25 15:51:00</td>\n",
       "      <td>One way</td>\n",
       "      <td>False</td>\n",
       "      <td>12</td>\n",
       "      <td>DEL</td>\n",
       "      <td>GAU</td>\n",
       "      <td>ECONOMY</td>\n",
       "      <td>iximaad</td>\n",
       "      <td>4633</td>\n",
       "      <td>2018-07-27 18:20:00+05:30</td>\n",
       "      <td>oldUser</td>\n",
       "      <td>32 days</td>\n",
       "    </tr>\n",
       "    <tr>\n",
       "      <th>2</th>\n",
       "      <td>52d952bbe4b0093a9b9cbf78</td>\n",
       "      <td>1.80612E+11</td>\n",
       "      <td>2018-12-06 20:33:00</td>\n",
       "      <td>One way</td>\n",
       "      <td>False</td>\n",
       "      <td>12</td>\n",
       "      <td>PNQ</td>\n",
       "      <td>BLR</td>\n",
       "      <td>ECONOMY</td>\n",
       "      <td>iximaad</td>\n",
       "      <td>3889</td>\n",
       "      <td>2018-12-07 01:25:00+05:30</td>\n",
       "      <td>oldUser</td>\n",
       "      <td>1 days</td>\n",
       "    </tr>\n",
       "    <tr>\n",
       "      <th>3</th>\n",
       "      <td>530779c1e4b00a4950542af3</td>\n",
       "      <td>5.0684E+11</td>\n",
       "      <td>2018-05-06 23:27:00</td>\n",
       "      <td>One way</td>\n",
       "      <td>False</td>\n",
       "      <td>103</td>\n",
       "      <td>AMD</td>\n",
       "      <td>DEL</td>\n",
       "      <td>ECONOMY</td>\n",
       "      <td>iximaio</td>\n",
       "      <td>11984</td>\n",
       "      <td>2018-06-06 19:40:00+05:30</td>\n",
       "      <td>oldUser</td>\n",
       "      <td>31 days</td>\n",
       "    </tr>\n",
       "    <tr>\n",
       "      <th>4</th>\n",
       "      <td>530779c1e4b00a4950542af3</td>\n",
       "      <td>PRL06E2WAA3</td>\n",
       "      <td>2018-06-19 14:52:00</td>\n",
       "      <td>One way</td>\n",
       "      <td>False</td>\n",
       "      <td>1020</td>\n",
       "      <td>DEL</td>\n",
       "      <td>GAU</td>\n",
       "      <td>ECONOMY</td>\n",
       "      <td>iximaio</td>\n",
       "      <td>6957</td>\n",
       "      <td>2018-06-20 10:50:00+05:30</td>\n",
       "      <td>oldUser</td>\n",
       "      <td>1 days</td>\n",
       "    </tr>\n",
       "  </tbody>\n",
       "</table>\n",
       "</div>"
      ],
      "text/plain": [
       "                     userId    bookingId         bookingDate journeyType  \\\n",
       "0  51b022a5e4b0aaef8f15cdb5  18062077104 2018-06-20 22:16:00     One way   \n",
       "1  52381fa4e4b0802b434024be  1.80625E+11 2018-06-25 15:51:00     One way   \n",
       "2  52d952bbe4b0093a9b9cbf78  1.80612E+11 2018-12-06 20:33:00     One way   \n",
       "3  530779c1e4b00a4950542af3   5.0684E+11 2018-05-06 23:27:00     One way   \n",
       "4  530779c1e4b00a4950542af3  PRL06E2WAA3 2018-06-19 14:52:00     One way   \n",
       "\n",
       "   isInternational  providerId originCode destinationCode cabinClass  \\\n",
       "0            False          12        AMD             DEL    ECONOMY   \n",
       "1            False          12        DEL             GAU    ECONOMY   \n",
       "2            False          12        PNQ             BLR    ECONOMY   \n",
       "3            False         103        AMD             DEL    ECONOMY   \n",
       "4            False        1020        DEL             GAU    ECONOMY   \n",
       "\n",
       "  devicePlatform  totalFare           onwardDeparture userType  \\\n",
       "0        iximaad       1937 2018-07-09 05:05:00+05:30  newUser   \n",
       "1        iximaad       4633 2018-07-27 18:20:00+05:30  oldUser   \n",
       "2        iximaad       3889 2018-12-07 01:25:00+05:30  oldUser   \n",
       "3        iximaio      11984 2018-06-06 19:40:00+05:30  oldUser   \n",
       "4        iximaio       6957 2018-06-20 10:50:00+05:30  oldUser   \n",
       "\n",
       "  Advance_bookers_day_Difference  \n",
       "0                        19 days  \n",
       "1                        32 days  \n",
       "2                         1 days  \n",
       "3                        31 days  \n",
       "4                         1 days  "
      ]
     },
     "execution_count": 25,
     "metadata": {},
     "output_type": "execute_result"
    }
   ],
   "source": [
    "df['Advance_bookers_day_Difference'] = (df['onwardDeparture'].dt.date.sub(df['bookingDate'].dt.date))\n",
    "df.head() "
   ]
  },
  {
   "cell_type": "code",
   "execution_count": 26,
   "metadata": {},
   "outputs": [
    {
     "data": {
      "text/plain": [
       "(5098, 14)"
      ]
     },
     "execution_count": 26,
     "metadata": {},
     "output_type": "execute_result"
    }
   ],
   "source": [
    "df.shape"
   ]
  },
  {
   "cell_type": "code",
   "execution_count": 27,
   "metadata": {},
   "outputs": [],
   "source": [
    "#df['Difference'].value_counts(ascending=False)"
   ]
  },
  {
   "cell_type": "code",
   "execution_count": 28,
   "metadata": {},
   "outputs": [],
   "source": [
    "#after created new column,have seen that in some of the rows have got negative values because in \n",
    "#some entries departure time is less compare to the Booking time"
   ]
  },
  {
   "cell_type": "code",
   "execution_count": 29,
   "metadata": {},
   "outputs": [],
   "source": [
    "df3=df[df['Advance_bookers_day_Difference']>'0 days']\n",
    "#filtering positive values"
   ]
  },
  {
   "cell_type": "code",
   "execution_count": 30,
   "metadata": {},
   "outputs": [],
   "source": [
    "#df3.groupby(['Difference','originCode','destinationCode'])['userId'].count()"
   ]
  },
  {
   "cell_type": "code",
   "execution_count": 31,
   "metadata": {},
   "outputs": [],
   "source": [
    "#df3.groupby(['Difference','cabinClass','journeyType'])['totalFare'].mean()"
   ]
  },
  {
   "cell_type": "code",
   "execution_count": 32,
   "metadata": {},
   "outputs": [
    {
     "name": "stdout",
     "output_type": "stream",
     "text": [
      "<class 'pandas.core.frame.DataFrame'>\n",
      "Int64Index: 3411 entries, 0 to 5096\n",
      "Data columns (total 14 columns):\n",
      " #   Column                          Non-Null Count  Dtype                       \n",
      "---  ------                          --------------  -----                       \n",
      " 0   userId                          3411 non-null   object                      \n",
      " 1   bookingId                       3411 non-null   object                      \n",
      " 2   bookingDate                     3411 non-null   datetime64[ns]              \n",
      " 3   journeyType                     3411 non-null   object                      \n",
      " 4   isInternational                 3411 non-null   bool                        \n",
      " 5   providerId                      3411 non-null   int64                       \n",
      " 6   originCode                      3411 non-null   object                      \n",
      " 7   destinationCode                 3411 non-null   object                      \n",
      " 8   cabinClass                      3411 non-null   object                      \n",
      " 9   devicePlatform                  3411 non-null   object                      \n",
      " 10  totalFare                       3411 non-null   int64                       \n",
      " 11  onwardDeparture                 3411 non-null   datetime64[ns, Asia/Kolkata]\n",
      " 12  userType                        3411 non-null   object                      \n",
      " 13  Advance_bookers_day_Difference  3411 non-null   timedelta64[ns]             \n",
      "dtypes: bool(1), datetime64[ns, Asia/Kolkata](1), datetime64[ns](1), int64(2), object(8), timedelta64[ns](1)\n",
      "memory usage: 376.4+ KB\n"
     ]
    }
   ],
   "source": [
    "df3.info()"
   ]
  },
  {
   "cell_type": "code",
   "execution_count": 33,
   "metadata": {},
   "outputs": [],
   "source": [
    "df3['Advance_bookers_day_Difference']=df3['Advance_bookers_day_Difference'].astype(str)"
   ]
  },
  {
   "cell_type": "code",
   "execution_count": 34,
   "metadata": {},
   "outputs": [],
   "source": [
    "df3['Day_diff_num'] = df3['Advance_bookers_day_Difference'].str.extract(\"(\\d*\\.?\\d+)\", expand=True)\n",
    "#extracted numeric values from the 'Advance_bookers_day_Difference' column"
   ]
  },
  {
   "cell_type": "code",
   "execution_count": 35,
   "metadata": {},
   "outputs": [
    {
     "data": {
      "text/html": [
       "<div>\n",
       "<style scoped>\n",
       "    .dataframe tbody tr th:only-of-type {\n",
       "        vertical-align: middle;\n",
       "    }\n",
       "\n",
       "    .dataframe tbody tr th {\n",
       "        vertical-align: top;\n",
       "    }\n",
       "\n",
       "    .dataframe thead th {\n",
       "        text-align: right;\n",
       "    }\n",
       "</style>\n",
       "<table border=\"1\" class=\"dataframe\">\n",
       "  <thead>\n",
       "    <tr style=\"text-align: right;\">\n",
       "      <th></th>\n",
       "      <th>userId</th>\n",
       "      <th>bookingId</th>\n",
       "      <th>bookingDate</th>\n",
       "      <th>journeyType</th>\n",
       "      <th>isInternational</th>\n",
       "      <th>providerId</th>\n",
       "      <th>originCode</th>\n",
       "      <th>destinationCode</th>\n",
       "      <th>cabinClass</th>\n",
       "      <th>devicePlatform</th>\n",
       "      <th>totalFare</th>\n",
       "      <th>onwardDeparture</th>\n",
       "      <th>userType</th>\n",
       "      <th>Advance_bookers_day_Difference</th>\n",
       "      <th>Day_diff_num</th>\n",
       "    </tr>\n",
       "  </thead>\n",
       "  <tbody>\n",
       "    <tr>\n",
       "      <th>0</th>\n",
       "      <td>51b022a5e4b0aaef8f15cdb5</td>\n",
       "      <td>18062077104</td>\n",
       "      <td>2018-06-20 22:16:00</td>\n",
       "      <td>One way</td>\n",
       "      <td>False</td>\n",
       "      <td>12</td>\n",
       "      <td>AMD</td>\n",
       "      <td>DEL</td>\n",
       "      <td>ECONOMY</td>\n",
       "      <td>iximaad</td>\n",
       "      <td>1937</td>\n",
       "      <td>2018-07-09 05:05:00+05:30</td>\n",
       "      <td>newUser</td>\n",
       "      <td>19 days</td>\n",
       "      <td>19</td>\n",
       "    </tr>\n",
       "    <tr>\n",
       "      <th>1</th>\n",
       "      <td>52381fa4e4b0802b434024be</td>\n",
       "      <td>1.80625E+11</td>\n",
       "      <td>2018-06-25 15:51:00</td>\n",
       "      <td>One way</td>\n",
       "      <td>False</td>\n",
       "      <td>12</td>\n",
       "      <td>DEL</td>\n",
       "      <td>GAU</td>\n",
       "      <td>ECONOMY</td>\n",
       "      <td>iximaad</td>\n",
       "      <td>4633</td>\n",
       "      <td>2018-07-27 18:20:00+05:30</td>\n",
       "      <td>oldUser</td>\n",
       "      <td>32 days</td>\n",
       "      <td>32</td>\n",
       "    </tr>\n",
       "    <tr>\n",
       "      <th>2</th>\n",
       "      <td>52d952bbe4b0093a9b9cbf78</td>\n",
       "      <td>1.80612E+11</td>\n",
       "      <td>2018-12-06 20:33:00</td>\n",
       "      <td>One way</td>\n",
       "      <td>False</td>\n",
       "      <td>12</td>\n",
       "      <td>PNQ</td>\n",
       "      <td>BLR</td>\n",
       "      <td>ECONOMY</td>\n",
       "      <td>iximaad</td>\n",
       "      <td>3889</td>\n",
       "      <td>2018-12-07 01:25:00+05:30</td>\n",
       "      <td>oldUser</td>\n",
       "      <td>1 days</td>\n",
       "      <td>1</td>\n",
       "    </tr>\n",
       "    <tr>\n",
       "      <th>3</th>\n",
       "      <td>530779c1e4b00a4950542af3</td>\n",
       "      <td>5.0684E+11</td>\n",
       "      <td>2018-05-06 23:27:00</td>\n",
       "      <td>One way</td>\n",
       "      <td>False</td>\n",
       "      <td>103</td>\n",
       "      <td>AMD</td>\n",
       "      <td>DEL</td>\n",
       "      <td>ECONOMY</td>\n",
       "      <td>iximaio</td>\n",
       "      <td>11984</td>\n",
       "      <td>2018-06-06 19:40:00+05:30</td>\n",
       "      <td>oldUser</td>\n",
       "      <td>31 days</td>\n",
       "      <td>31</td>\n",
       "    </tr>\n",
       "    <tr>\n",
       "      <th>4</th>\n",
       "      <td>530779c1e4b00a4950542af3</td>\n",
       "      <td>PRL06E2WAA3</td>\n",
       "      <td>2018-06-19 14:52:00</td>\n",
       "      <td>One way</td>\n",
       "      <td>False</td>\n",
       "      <td>1020</td>\n",
       "      <td>DEL</td>\n",
       "      <td>GAU</td>\n",
       "      <td>ECONOMY</td>\n",
       "      <td>iximaio</td>\n",
       "      <td>6957</td>\n",
       "      <td>2018-06-20 10:50:00+05:30</td>\n",
       "      <td>oldUser</td>\n",
       "      <td>1 days</td>\n",
       "      <td>1</td>\n",
       "    </tr>\n",
       "  </tbody>\n",
       "</table>\n",
       "</div>"
      ],
      "text/plain": [
       "                     userId    bookingId         bookingDate journeyType  \\\n",
       "0  51b022a5e4b0aaef8f15cdb5  18062077104 2018-06-20 22:16:00     One way   \n",
       "1  52381fa4e4b0802b434024be  1.80625E+11 2018-06-25 15:51:00     One way   \n",
       "2  52d952bbe4b0093a9b9cbf78  1.80612E+11 2018-12-06 20:33:00     One way   \n",
       "3  530779c1e4b00a4950542af3   5.0684E+11 2018-05-06 23:27:00     One way   \n",
       "4  530779c1e4b00a4950542af3  PRL06E2WAA3 2018-06-19 14:52:00     One way   \n",
       "\n",
       "   isInternational  providerId originCode destinationCode cabinClass  \\\n",
       "0            False          12        AMD             DEL    ECONOMY   \n",
       "1            False          12        DEL             GAU    ECONOMY   \n",
       "2            False          12        PNQ             BLR    ECONOMY   \n",
       "3            False         103        AMD             DEL    ECONOMY   \n",
       "4            False        1020        DEL             GAU    ECONOMY   \n",
       "\n",
       "  devicePlatform  totalFare           onwardDeparture userType  \\\n",
       "0        iximaad       1937 2018-07-09 05:05:00+05:30  newUser   \n",
       "1        iximaad       4633 2018-07-27 18:20:00+05:30  oldUser   \n",
       "2        iximaad       3889 2018-12-07 01:25:00+05:30  oldUser   \n",
       "3        iximaio      11984 2018-06-06 19:40:00+05:30  oldUser   \n",
       "4        iximaio       6957 2018-06-20 10:50:00+05:30  oldUser   \n",
       "\n",
       "  Advance_bookers_day_Difference Day_diff_num  \n",
       "0                        19 days           19  \n",
       "1                        32 days           32  \n",
       "2                         1 days            1  \n",
       "3                        31 days           31  \n",
       "4                         1 days            1  "
      ]
     },
     "execution_count": 35,
     "metadata": {},
     "output_type": "execute_result"
    }
   ],
   "source": [
    "df3.head()"
   ]
  },
  {
   "cell_type": "code",
   "execution_count": 36,
   "metadata": {},
   "outputs": [],
   "source": [
    "df3['Day_diff_num']=df3['Day_diff_num'].astype(int)"
   ]
  },
  {
   "cell_type": "markdown",
   "metadata": {},
   "source": [
    "### -NOTE:\n",
    "- creating function, to create 'Advance bookers bucket' for better analysing\n",
    "- creating 5 buckets 1-15 days(those who book tickets in 1-15 days),16-30 days,31-45 days,46-70 days and more than 70 days"
   ]
  },
  {
   "cell_type": "code",
   "execution_count": 37,
   "metadata": {},
   "outputs": [],
   "source": [
    "def conditions(i): \n",
    "    if i <=15: return '1-15'\n",
    "    if i > 15 and i <=30: return '16-30'\n",
    "    if i > 30 and i <=45: return '31-45'\n",
    "    if i > 45 and i <=70: return '46-70'\n",
    "    if i > 70: return '>70'"
   ]
  },
  {
   "cell_type": "code",
   "execution_count": 38,
   "metadata": {},
   "outputs": [],
   "source": [
    "df3['Advance_bookers_bucket']=df3['Day_diff_num'].apply(conditions)"
   ]
  },
  {
   "cell_type": "code",
   "execution_count": 39,
   "metadata": {},
   "outputs": [
    {
     "data": {
      "text/html": [
       "<div>\n",
       "<style scoped>\n",
       "    .dataframe tbody tr th:only-of-type {\n",
       "        vertical-align: middle;\n",
       "    }\n",
       "\n",
       "    .dataframe tbody tr th {\n",
       "        vertical-align: top;\n",
       "    }\n",
       "\n",
       "    .dataframe thead th {\n",
       "        text-align: right;\n",
       "    }\n",
       "</style>\n",
       "<table border=\"1\" class=\"dataframe\">\n",
       "  <thead>\n",
       "    <tr style=\"text-align: right;\">\n",
       "      <th></th>\n",
       "      <th>userId</th>\n",
       "      <th>bookingId</th>\n",
       "      <th>bookingDate</th>\n",
       "      <th>journeyType</th>\n",
       "      <th>isInternational</th>\n",
       "      <th>providerId</th>\n",
       "      <th>originCode</th>\n",
       "      <th>destinationCode</th>\n",
       "      <th>cabinClass</th>\n",
       "      <th>devicePlatform</th>\n",
       "      <th>totalFare</th>\n",
       "      <th>onwardDeparture</th>\n",
       "      <th>userType</th>\n",
       "      <th>Advance_bookers_day_Difference</th>\n",
       "      <th>Day_diff_num</th>\n",
       "      <th>Advance_bookers_bucket</th>\n",
       "    </tr>\n",
       "  </thead>\n",
       "  <tbody>\n",
       "    <tr>\n",
       "      <th>0</th>\n",
       "      <td>51b022a5e4b0aaef8f15cdb5</td>\n",
       "      <td>18062077104</td>\n",
       "      <td>2018-06-20 22:16:00</td>\n",
       "      <td>One way</td>\n",
       "      <td>False</td>\n",
       "      <td>12</td>\n",
       "      <td>AMD</td>\n",
       "      <td>DEL</td>\n",
       "      <td>ECONOMY</td>\n",
       "      <td>iximaad</td>\n",
       "      <td>1937</td>\n",
       "      <td>2018-07-09 05:05:00+05:30</td>\n",
       "      <td>newUser</td>\n",
       "      <td>19 days</td>\n",
       "      <td>19</td>\n",
       "      <td>16-30</td>\n",
       "    </tr>\n",
       "    <tr>\n",
       "      <th>1</th>\n",
       "      <td>52381fa4e4b0802b434024be</td>\n",
       "      <td>1.80625E+11</td>\n",
       "      <td>2018-06-25 15:51:00</td>\n",
       "      <td>One way</td>\n",
       "      <td>False</td>\n",
       "      <td>12</td>\n",
       "      <td>DEL</td>\n",
       "      <td>GAU</td>\n",
       "      <td>ECONOMY</td>\n",
       "      <td>iximaad</td>\n",
       "      <td>4633</td>\n",
       "      <td>2018-07-27 18:20:00+05:30</td>\n",
       "      <td>oldUser</td>\n",
       "      <td>32 days</td>\n",
       "      <td>32</td>\n",
       "      <td>31-45</td>\n",
       "    </tr>\n",
       "    <tr>\n",
       "      <th>2</th>\n",
       "      <td>52d952bbe4b0093a9b9cbf78</td>\n",
       "      <td>1.80612E+11</td>\n",
       "      <td>2018-12-06 20:33:00</td>\n",
       "      <td>One way</td>\n",
       "      <td>False</td>\n",
       "      <td>12</td>\n",
       "      <td>PNQ</td>\n",
       "      <td>BLR</td>\n",
       "      <td>ECONOMY</td>\n",
       "      <td>iximaad</td>\n",
       "      <td>3889</td>\n",
       "      <td>2018-12-07 01:25:00+05:30</td>\n",
       "      <td>oldUser</td>\n",
       "      <td>1 days</td>\n",
       "      <td>1</td>\n",
       "      <td>1-15</td>\n",
       "    </tr>\n",
       "    <tr>\n",
       "      <th>3</th>\n",
       "      <td>530779c1e4b00a4950542af3</td>\n",
       "      <td>5.0684E+11</td>\n",
       "      <td>2018-05-06 23:27:00</td>\n",
       "      <td>One way</td>\n",
       "      <td>False</td>\n",
       "      <td>103</td>\n",
       "      <td>AMD</td>\n",
       "      <td>DEL</td>\n",
       "      <td>ECONOMY</td>\n",
       "      <td>iximaio</td>\n",
       "      <td>11984</td>\n",
       "      <td>2018-06-06 19:40:00+05:30</td>\n",
       "      <td>oldUser</td>\n",
       "      <td>31 days</td>\n",
       "      <td>31</td>\n",
       "      <td>31-45</td>\n",
       "    </tr>\n",
       "    <tr>\n",
       "      <th>4</th>\n",
       "      <td>530779c1e4b00a4950542af3</td>\n",
       "      <td>PRL06E2WAA3</td>\n",
       "      <td>2018-06-19 14:52:00</td>\n",
       "      <td>One way</td>\n",
       "      <td>False</td>\n",
       "      <td>1020</td>\n",
       "      <td>DEL</td>\n",
       "      <td>GAU</td>\n",
       "      <td>ECONOMY</td>\n",
       "      <td>iximaio</td>\n",
       "      <td>6957</td>\n",
       "      <td>2018-06-20 10:50:00+05:30</td>\n",
       "      <td>oldUser</td>\n",
       "      <td>1 days</td>\n",
       "      <td>1</td>\n",
       "      <td>1-15</td>\n",
       "    </tr>\n",
       "  </tbody>\n",
       "</table>\n",
       "</div>"
      ],
      "text/plain": [
       "                     userId    bookingId         bookingDate journeyType  \\\n",
       "0  51b022a5e4b0aaef8f15cdb5  18062077104 2018-06-20 22:16:00     One way   \n",
       "1  52381fa4e4b0802b434024be  1.80625E+11 2018-06-25 15:51:00     One way   \n",
       "2  52d952bbe4b0093a9b9cbf78  1.80612E+11 2018-12-06 20:33:00     One way   \n",
       "3  530779c1e4b00a4950542af3   5.0684E+11 2018-05-06 23:27:00     One way   \n",
       "4  530779c1e4b00a4950542af3  PRL06E2WAA3 2018-06-19 14:52:00     One way   \n",
       "\n",
       "   isInternational  providerId originCode destinationCode cabinClass  \\\n",
       "0            False          12        AMD             DEL    ECONOMY   \n",
       "1            False          12        DEL             GAU    ECONOMY   \n",
       "2            False          12        PNQ             BLR    ECONOMY   \n",
       "3            False         103        AMD             DEL    ECONOMY   \n",
       "4            False        1020        DEL             GAU    ECONOMY   \n",
       "\n",
       "  devicePlatform  totalFare           onwardDeparture userType  \\\n",
       "0        iximaad       1937 2018-07-09 05:05:00+05:30  newUser   \n",
       "1        iximaad       4633 2018-07-27 18:20:00+05:30  oldUser   \n",
       "2        iximaad       3889 2018-12-07 01:25:00+05:30  oldUser   \n",
       "3        iximaio      11984 2018-06-06 19:40:00+05:30  oldUser   \n",
       "4        iximaio       6957 2018-06-20 10:50:00+05:30  oldUser   \n",
       "\n",
       "  Advance_bookers_day_Difference  Day_diff_num Advance_bookers_bucket  \n",
       "0                        19 days            19                  16-30  \n",
       "1                        32 days            32                  31-45  \n",
       "2                         1 days             1                   1-15  \n",
       "3                        31 days            31                  31-45  \n",
       "4                         1 days             1                   1-15  "
      ]
     },
     "execution_count": 39,
     "metadata": {},
     "output_type": "execute_result"
    }
   ],
   "source": [
    "df3.head()"
   ]
  },
  {
   "cell_type": "code",
   "execution_count": 40,
   "metadata": {
    "scrolled": true
   },
   "outputs": [
    {
     "data": {
      "text/plain": [
       "1-15     1373\n",
       "16-30     594\n",
       ">70       592\n",
       "46-70     451\n",
       "31-45     401\n",
       "Name: Advance_bookers_bucket, dtype: int64"
      ]
     },
     "execution_count": 40,
     "metadata": {},
     "output_type": "execute_result"
    }
   ],
   "source": [
    "df3['Advance_bookers_bucket'].value_counts()"
   ]
  },
  {
   "cell_type": "markdown",
   "metadata": {},
   "source": [
    "## A."
   ]
  },
  {
   "cell_type": "code",
   "execution_count": 41,
   "metadata": {
    "scrolled": true
   },
   "outputs": [
    {
     "data": {
      "text/plain": [
       "<AxesSubplot:xlabel='Advance_bookers_bucket', ylabel='count'>"
      ]
     },
     "execution_count": 41,
     "metadata": {},
     "output_type": "execute_result"
    },
    {
     "data": {
      "image/png": "[encoded data removed]",
      "text/plain": [
       "<Figure size 432x288 with 1 Axes>"
      ]
     },
     "metadata": {
      "needs_background": "light"
     },
     "output_type": "display_data"
    }
   ],
   "source": [
    "sns.countplot(df3['Advance_bookers_bucket'],hue=df3['devicePlatform'])"
   ]
  },
  {
   "cell_type": "markdown",
   "metadata": {},
   "source": [
    "## B."
   ]
  },
  {
   "cell_type": "code",
   "execution_count": 42,
   "metadata": {},
   "outputs": [
    {
     "data": {
      "text/plain": [
       "<AxesSubplot:xlabel='Advance_bookers_bucket', ylabel='count'>"
      ]
     },
     "execution_count": 42,
     "metadata": {},
     "output_type": "execute_result"
    },
    {
     "data": {
      "image/png": "[encoded data removed]",
      "text/plain": [
       "<Figure size 432x288 with 1 Axes>"
      ]
     },
     "metadata": {
      "needs_background": "light"
     },
     "output_type": "display_data"
    }
   ],
   "source": [
    "sns.countplot(df3['Advance_bookers_bucket'],hue=df3['journeyType'])"
   ]
  },
  {
   "cell_type": "markdown",
   "metadata": {},
   "source": [
    "## C."
   ]
  },
  {
   "cell_type": "code",
   "execution_count": 43,
   "metadata": {
    "scrolled": true
   },
   "outputs": [
    {
     "data": {
      "text/plain": [
       "<AxesSubplot:xlabel='Advance_bookers_bucket', ylabel='count'>"
      ]
     },
     "execution_count": 43,
     "metadata": {},
     "output_type": "execute_result"
    },
    {
     "data": {
      "image/png": "[encoded data removed]",
      "text/plain": [
       "<Figure size 432x288 with 1 Axes>"
      ]
     },
     "metadata": {
      "needs_background": "light"
     },
     "output_type": "display_data"
    }
   ],
   "source": [
    "sns.countplot(df3['Advance_bookers_bucket'],hue=df3['userType'])"
   ]
  },
  {
   "cell_type": "code",
   "execution_count": 62,
   "metadata": {},
   "outputs": [
    {
     "data": {
      "text/html": [
       "<div>\n",
       "<style scoped>\n",
       "    .dataframe tbody tr th:only-of-type {\n",
       "        vertical-align: middle;\n",
       "    }\n",
       "\n",
       "    .dataframe tbody tr th {\n",
       "        vertical-align: top;\n",
       "    }\n",
       "\n",
       "    .dataframe thead th {\n",
       "        text-align: right;\n",
       "    }\n",
       "</style>\n",
       "<table border=\"1\" class=\"dataframe\">\n",
       "  <thead>\n",
       "    <tr style=\"text-align: right;\">\n",
       "      <th></th>\n",
       "      <th>count</th>\n",
       "      <th>unique</th>\n",
       "      <th>top</th>\n",
       "      <th>freq</th>\n",
       "    </tr>\n",
       "    <tr>\n",
       "      <th>Advance_bookers_bucket</th>\n",
       "      <th></th>\n",
       "      <th></th>\n",
       "      <th></th>\n",
       "      <th></th>\n",
       "    </tr>\n",
       "  </thead>\n",
       "  <tbody>\n",
       "    <tr>\n",
       "      <th>1-15</th>\n",
       "      <td>1373</td>\n",
       "      <td>3</td>\n",
       "      <td>oldUser</td>\n",
       "      <td>1130</td>\n",
       "    </tr>\n",
       "    <tr>\n",
       "      <th>16-30</th>\n",
       "      <td>594</td>\n",
       "      <td>3</td>\n",
       "      <td>oldUser</td>\n",
       "      <td>483</td>\n",
       "    </tr>\n",
       "    <tr>\n",
       "      <th>31-45</th>\n",
       "      <td>401</td>\n",
       "      <td>3</td>\n",
       "      <td>oldUser</td>\n",
       "      <td>350</td>\n",
       "    </tr>\n",
       "    <tr>\n",
       "      <th>46-70</th>\n",
       "      <td>451</td>\n",
       "      <td>3</td>\n",
       "      <td>oldUser</td>\n",
       "      <td>387</td>\n",
       "    </tr>\n",
       "    <tr>\n",
       "      <th>&gt;70</th>\n",
       "      <td>592</td>\n",
       "      <td>3</td>\n",
       "      <td>oldUser</td>\n",
       "      <td>487</td>\n",
       "    </tr>\n",
       "  </tbody>\n",
       "</table>\n",
       "</div>"
      ],
      "text/plain": [
       "                       count unique      top  freq\n",
       "Advance_bookers_bucket                            \n",
       "1-15                    1373      3  oldUser  1130\n",
       "16-30                    594      3  oldUser   483\n",
       "31-45                    401      3  oldUser   350\n",
       "46-70                    451      3  oldUser   387\n",
       ">70                      592      3  oldUser   487"
      ]
     },
     "execution_count": 62,
     "metadata": {},
     "output_type": "execute_result"
    }
   ],
   "source": [
    "df3.groupby('Advance_bookers_bucket')['userType'].describe()"
   ]
  },
  {
   "cell_type": "markdown",
   "metadata": {},
   "source": [
    "## D."
   ]
  },
  {
   "cell_type": "code",
   "execution_count": 44,
   "metadata": {},
   "outputs": [
    {
     "data": {
      "text/plain": [
       "<AxesSubplot:xlabel='Advance_bookers_bucket', ylabel='count'>"
      ]
     },
     "execution_count": 44,
     "metadata": {},
     "output_type": "execute_result"
    },
    {
     "data": {
      "image/png": "[encoded data removed]",
      "text/plain": [
       "<Figure size 432x288 with 1 Axes>"
      ]
     },
     "metadata": {
      "needs_background": "light"
     },
     "output_type": "display_data"
    }
   ],
   "source": [
    "sns.countplot(df3['Advance_bookers_bucket'],hue=df3['originCode'])"
   ]
  },
  {
   "cell_type": "markdown",
   "metadata": {},
   "source": [
    "## E."
   ]
  },
  {
   "cell_type": "code",
   "execution_count": 45,
   "metadata": {
    "scrolled": true
   },
   "outputs": [
    {
     "data": {
      "text/plain": [
       "<AxesSubplot:xlabel='Advance_bookers_bucket', ylabel='count'>"
      ]
     },
     "execution_count": 45,
     "metadata": {},
     "output_type": "execute_result"
    },
    {
     "data": {
      "image/png": "[encoded data removed]",
      "text/plain": [
       "<Figure size 432x288 with 1 Axes>"
      ]
     },
     "metadata": {
      "needs_background": "light"
     },
     "output_type": "display_data"
    }
   ],
   "source": [
    "sns.countplot(df3['Advance_bookers_bucket'],hue=df3['destinationCode'])"
   ]
  },
  {
   "cell_type": "markdown",
   "metadata": {},
   "source": [
    "## F."
   ]
  },
  {
   "cell_type": "code",
   "execution_count": 46,
   "metadata": {
    "scrolled": true
   },
   "outputs": [
    {
     "data": {
      "text/plain": [
       "<AxesSubplot:xlabel='Advance_bookers_bucket', ylabel='totalFare'>"
      ]
     },
     "execution_count": 46,
     "metadata": {},
     "output_type": "execute_result"
    },
    {
     "data": {
      "image/png": "[encoded data removed]",
      "text/plain": [
       "<Figure size 432x288 with 1 Axes>"
      ]
     },
     "metadata": {
      "needs_background": "light"
     },
     "output_type": "display_data"
    }
   ],
   "source": [
    "sns.violinplot(x='Advance_bookers_bucket',y='totalFare',data=df3)"
   ]
  },
  {
   "cell_type": "markdown",
   "metadata": {},
   "source": [
    "## G."
   ]
  },
  {
   "cell_type": "code",
   "execution_count": 47,
   "metadata": {
    "scrolled": false
   },
   "outputs": [
    {
     "data": {
      "text/plain": [
       "<AxesSubplot:xlabel='Advance_bookers_bucket', ylabel='totalFare'>"
      ]
     },
     "execution_count": 47,
     "metadata": {},
     "output_type": "execute_result"
    },
    {
     "data": {
      "image/png": "[encoded data removed]",
      "text/plain": [
       "<Figure size 432x288 with 1 Axes>"
      ]
     },
     "metadata": {
      "needs_background": "light"
     },
     "output_type": "display_data"
    }
   ],
   "source": [
    "sns.boxplot(x='Advance_bookers_bucket',y='totalFare',data=df3)"
   ]
  },
  {
   "cell_type": "markdown",
   "metadata": {},
   "source": [
    "## H."
   ]
  },
  {
   "cell_type": "code",
   "execution_count": 48,
   "metadata": {},
   "outputs": [
    {
     "data": {
      "text/plain": [
       "<seaborn.axisgrid.PairGrid at 0x1f1bc103188>"
      ]
     },
     "execution_count": 48,
     "metadata": {},
     "output_type": "execute_result"
    },
    {
     "data": {
      "image/png": "[encoded data removed]",
      "text/plain": [
       "<Figure size 720x720 with 20 Axes>"
      ]
     },
     "metadata": {
      "needs_background": "light"
     },
     "output_type": "display_data"
    }
   ],
   "source": [
    "sns.pairplot(df3)"
   ]
  },
  {
   "cell_type": "markdown",
   "metadata": {},
   "source": [
    "### 3.3 Summary:\n",
    "- Majority of users come under 1-15 days but also we got the insights that people prefer to book 30+ days prior to get cheap tickets\n",
    "- Fig. A : Shows that majority for users are booking the tickets from apps: Android follows by IOS\n",
    "- In Fig C : Old users have the highest contribution in the advance booking \n",
    "- Delhi is the busiest Origin and Destination \n",
    "- According to fig. F & G: Boxplot shows that those who are booking in advance they have got the tickets in cheap price\n"
   ]
  },
  {
   "cell_type": "markdown",
   "metadata": {},
   "source": [
    "### 3.4) What percentage of bookings do we get through apps (Android + Ios)?"
   ]
  },
  {
   "cell_type": "code",
   "execution_count": 49,
   "metadata": {},
   "outputs": [],
   "source": [
    "df4 = df.loc[(df.devicePlatform=='iximaad') | (df.devicePlatform=='iximaio')]"
   ]
  },
  {
   "cell_type": "code",
   "execution_count": 50,
   "metadata": {},
   "outputs": [
    {
     "data": {
      "image/png": "[encoded data removed]",
      "text/plain": [
       "<Figure size 432x288 with 1 Axes>"
      ]
     },
     "metadata": {
      "needs_background": "light"
     },
     "output_type": "display_data"
    }
   ],
   "source": [
    "sns.countplot(df4['devicePlatform'])\n",
    "plt.show()"
   ]
  },
  {
   "cell_type": "code",
   "execution_count": 51,
   "metadata": {},
   "outputs": [
    {
     "data": {
      "text/plain": [
       "iximaad    77.231427\n",
       "iximaio    22.768573\n",
       "Name: devicePlatform, dtype: float64"
      ]
     },
     "execution_count": 51,
     "metadata": {},
     "output_type": "execute_result"
    }
   ],
   "source": [
    "df4.devicePlatform.value_counts(normalize=True)*100"
   ]
  },
  {
   "cell_type": "markdown",
   "metadata": {},
   "source": [
    "### 3.4 Summary:\n",
    "#### Percentage of bookings we got through apps:\n",
    "- Android : 77.23%\n",
    "- Ios : 22.76%    "
   ]
  },
  {
   "cell_type": "markdown",
   "metadata": {},
   "source": [
    "### 3.5) Number of users who reactivate their account per month?"
   ]
  },
  {
   "cell_type": "markdown",
   "metadata": {},
   "source": [
    "- Checking unique number of months in the data"
   ]
  },
  {
   "cell_type": "code",
   "execution_count": 52,
   "metadata": {},
   "outputs": [
    {
     "data": {
      "text/plain": [
       "array([ 6, 12,  5,  7,  8, 10,  9, 11], dtype=int64)"
      ]
     },
     "execution_count": 52,
     "metadata": {},
     "output_type": "execute_result"
    }
   ],
   "source": [
    "df['bookingDate'].dt.month.rename('month').unique()"
   ]
  },
  {
   "cell_type": "code",
   "execution_count": 53,
   "metadata": {},
   "outputs": [],
   "source": [
    "df5 = df.groupby([df['bookingDate'].dt.month.rename('month'), 'userType'])['userId'].count()\n",
    "df5=df5.to_frame()"
   ]
  },
  {
   "cell_type": "code",
   "execution_count": 54,
   "metadata": {},
   "outputs": [],
   "source": [
    "df5=df5.reset_index()"
   ]
  },
  {
   "cell_type": "code",
   "execution_count": 55,
   "metadata": {
    "scrolled": true
   },
   "outputs": [
    {
     "data": {
      "text/html": [
       "<div>\n",
       "<style scoped>\n",
       "    .dataframe tbody tr th:only-of-type {\n",
       "        vertical-align: middle;\n",
       "    }\n",
       "\n",
       "    .dataframe tbody tr th {\n",
       "        vertical-align: top;\n",
       "    }\n",
       "\n",
       "    .dataframe thead th {\n",
       "        text-align: right;\n",
       "    }\n",
       "</style>\n",
       "<table border=\"1\" class=\"dataframe\">\n",
       "  <thead>\n",
       "    <tr style=\"text-align: right;\">\n",
       "      <th></th>\n",
       "      <th>month</th>\n",
       "      <th>userType</th>\n",
       "      <th>userId</th>\n",
       "    </tr>\n",
       "  </thead>\n",
       "  <tbody>\n",
       "    <tr>\n",
       "      <th>0</th>\n",
       "      <td>5</td>\n",
       "      <td>Reactivated</td>\n",
       "      <td>2</td>\n",
       "    </tr>\n",
       "    <tr>\n",
       "      <th>3</th>\n",
       "      <td>6</td>\n",
       "      <td>Reactivated</td>\n",
       "      <td>27</td>\n",
       "    </tr>\n",
       "    <tr>\n",
       "      <th>6</th>\n",
       "      <td>7</td>\n",
       "      <td>Reactivated</td>\n",
       "      <td>1</td>\n",
       "    </tr>\n",
       "    <tr>\n",
       "      <th>9</th>\n",
       "      <td>8</td>\n",
       "      <td>Reactivated</td>\n",
       "      <td>1</td>\n",
       "    </tr>\n",
       "    <tr>\n",
       "      <th>12</th>\n",
       "      <td>9</td>\n",
       "      <td>Reactivated</td>\n",
       "      <td>3</td>\n",
       "    </tr>\n",
       "    <tr>\n",
       "      <th>17</th>\n",
       "      <td>11</td>\n",
       "      <td>Reactivated</td>\n",
       "      <td>1</td>\n",
       "    </tr>\n",
       "    <tr>\n",
       "      <th>20</th>\n",
       "      <td>12</td>\n",
       "      <td>Reactivated</td>\n",
       "      <td>1</td>\n",
       "    </tr>\n",
       "  </tbody>\n",
       "</table>\n",
       "</div>"
      ],
      "text/plain": [
       "    month     userType  userId\n",
       "0       5  Reactivated       2\n",
       "3       6  Reactivated      27\n",
       "6       7  Reactivated       1\n",
       "9       8  Reactivated       1\n",
       "12      9  Reactivated       3\n",
       "17     11  Reactivated       1\n",
       "20     12  Reactivated       1"
      ]
     },
     "execution_count": 55,
     "metadata": {},
     "output_type": "execute_result"
    }
   ],
   "source": [
    "df5[df5['userType']=='Reactivated']"
   ]
  },
  {
   "cell_type": "markdown",
   "metadata": {},
   "source": [
    "### 3.5 Summary:\n",
    "- From month 5 to 12 we have total 36 users who reactivated their account \n",
    "- Highest number of users we have 27 in the 6(June) month who reactivated their account"
   ]
  },
  {
   "cell_type": "markdown",
   "metadata": {},
   "source": [
    "### 3.6) If you want to make cohorts of users who are likely to book international tickets, how would you identify and target them? Any one approach with proper explanation."
   ]
  },
  {
   "cell_type": "code",
   "execution_count": 56,
   "metadata": {
    "scrolled": true
   },
   "outputs": [
    {
     "data": {
      "text/plain": [
       "False    5098\n",
       "Name: isInternational, dtype: int64"
      ]
     },
     "execution_count": 56,
     "metadata": {},
     "output_type": "execute_result"
    }
   ],
   "source": [
    "df['isInternational'].value_counts()\n",
    "# NOte: In this dataset we dont have the information of internaltional users."
   ]
  },
  {
   "cell_type": "code",
   "execution_count": 63,
   "metadata": {},
   "outputs": [
    {
     "data": {
      "text/plain": [
       "Index(['userId', 'bookingId', 'bookingDate', 'journeyType', 'isInternational',\n",
       "       'providerId', 'originCode', 'destinationCode', 'cabinClass',\n",
       "       'devicePlatform', 'totalFare', 'onwardDeparture', 'userType',\n",
       "       'Advance_bookers_day_Difference'],\n",
       "      dtype='object')"
      ]
     },
     "execution_count": 63,
     "metadata": {},
     "output_type": "execute_result"
    }
   ],
   "source": [
    "df.columns"
   ]
  },
  {
   "cell_type": "code",
   "execution_count": 64,
   "metadata": {
    "scrolled": false
   },
   "outputs": [
    {
     "data": {
      "text/plain": [
       "originCode  destinationCode  isInternational  userType   \n",
       "AMD         DEL              False            oldUser        83.780761\n",
       "                                              newUser        15.324385\n",
       "                                              Reactivated     0.894855\n",
       "BLR         PNQ              False            oldUser        87.776484\n",
       "                                              newUser        11.641444\n",
       "                                              Reactivated     0.582072\n",
       "CCU         DEL              False            oldUser        82.098765\n",
       "                                              newUser        17.407407\n",
       "                                              Reactivated     0.493827\n",
       "DEL         AMD              False            oldUser        84.435402\n",
       "                                              newUser        15.157681\n",
       "                                              Reactivated     0.406918\n",
       "            GAU              False            oldUser        74.404762\n",
       "                                              newUser        24.553571\n",
       "                                              Reactivated     1.041667\n",
       "PNQ         BLR              False            oldUser        85.227273\n",
       "                                              newUser        13.863636\n",
       "                                              Reactivated     0.909091\n",
       "Name: userType, dtype: float64"
      ]
     },
     "execution_count": 64,
     "metadata": {},
     "output_type": "execute_result"
    }
   ],
   "source": [
    "df.groupby(['originCode','destinationCode','isInternational'])['userType'].value_counts(normalize=True)*100"
   ]
  },
  {
   "cell_type": "markdown",
   "metadata": {},
   "source": [
    "## 3.6 Summary:\n",
    "- If we want to know which users are likely to book international tickets, this can be possible using Supervised Learning Classfication (Machine Learning) model\n",
    "- Can create a categorical target variable whether Users will Buy a ticket or not\n",
    "- Important independent variables we have : isInternational, userType,origincode, destinationcode with these variables we can build a classification model with that we can get the accuracy of the model which will tell us how well model is predicting\n",
    "- If we create cohort of users and check how frequent they travel we can get an idea of there traveling behaviour"
   ]
  },
  {
   "cell_type": "markdown",
   "metadata": {},
   "source": [
    "# END"
   ]
  }
 ],
 "metadata": {
  "kernelspec": {
   "display_name": "Python 3",
   "language": "python",
   "name": "python3"
  },
  "language_info": {
   "codemirror_mode": {
    "name": "ipython",
    "version": 3
   },
   "file_extension": ".py",
   "mimetype": "text/x-python",
   "name": "python",
   "nbconvert_exporter": "python",
   "pygments_lexer": "ipython3",
   "version": "3.7.6"
  }
 },
 "nbformat": 4,
 "nbformat_minor": 4
}
